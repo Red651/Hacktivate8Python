{
 "cells": [
  {
   "cell_type": "markdown",
   "id": "4afdf998-b2eb-4e87-9781-de2e09eb7cc6",
   "metadata": {},
   "source": [
    "# Kode Jupyter"
   ]
  },
  {
   "cell_type": "markdown",
   "id": "224274b3-5a5f-42c3-9a82-94f097cfae11",
   "metadata": {},
   "source": [
    "Simple Syntax"
   ]
  },
  {
   "cell_type": "code",
   "execution_count": 1,
   "id": "4adbcfb8-667c-4e19-a3cb-98e0c91f2a00",
   "metadata": {},
   "outputs": [
    {
     "name": "stdout",
     "output_type": "stream",
     "text": [
      "Hello World\n"
     ]
    }
   ],
   "source": [
    "print('Hello World')"
   ]
  },
  {
   "cell_type": "markdown",
   "id": "06268a12-c5cd-4d84-9881-d95f248e1abf",
   "metadata": {},
   "source": [
    "Looping"
   ]
  },
  {
   "cell_type": "code",
   "execution_count": 2,
   "id": "faf903f9-312b-4ca8-8bc3-80293b19234e",
   "metadata": {},
   "outputs": [
    {
     "name": "stdout",
     "output_type": "stream",
     "text": [
      "1\n",
      "2\n",
      "3\n",
      "4\n",
      "5\n",
      "6\n",
      "7\n",
      "8\n",
      "9\n",
      "10\n"
     ]
    }
   ],
   "source": [
    "i = 1\n",
    "while(i <= 10):\n",
    "    print(i)\n",
    "    i += 1"
   ]
  },
  {
   "cell_type": "markdown",
   "id": "5fd33449-0ebe-499d-8bbd-27df05b2e6f5",
   "metadata": {},
   "source": [
    "# Using Library"
   ]
  },
  {
   "cell_type": "code",
   "execution_count": 3,
   "id": "455876c0-cfd7-40b5-84da-a373a22b5390",
   "metadata": {},
   "outputs": [
    {
     "name": "stdout",
     "output_type": "stream",
     "text": [
      "Requirement already satisfied: pandas in c:\\users\\hp\\anaconda3\\lib\\site-packages (1.2.4)\n",
      "Requirement already satisfied: numpy>=1.16.5 in c:\\users\\hp\\anaconda3\\lib\\site-packages (from pandas) (1.24.2)\n",
      "Requirement already satisfied: pytz>=2017.3 in c:\\users\\hp\\anaconda3\\lib\\site-packages (from pandas) (2022.7.1)\n",
      "Requirement already satisfied: python-dateutil>=2.7.3 in c:\\users\\hp\\anaconda3\\lib\\site-packages (from pandas) (2.8.1)\n",
      "Requirement already satisfied: six>=1.5 in c:\\users\\hp\\anaconda3\\lib\\site-packages (from python-dateutil>=2.7.3->pandas) (1.15.0)\n",
      "Requirement already satisfied: numpy in c:\\users\\hp\\anaconda3\\lib\\site-packages (1.24.2)\n"
     ]
    }
   ],
   "source": [
    "# mendownload library pandas\n",
    "# untuk tanda ! pada awal code itu menandakan perintah untuk terminal\n",
    "!pip3 install pandas\n",
    "!pip3 install numpy"
   ]
  },
  {
   "cell_type": "code",
   "execution_count": 4,
   "id": "2363f141-9913-4911-b0fe-03c7981b473b",
   "metadata": {},
   "outputs": [],
   "source": [
    "# memanggil library pandas dan numpy\n",
    "import pandas as pd\n",
    "import numpy as np"
   ]
  },
  {
   "cell_type": "code",
   "execution_count": 5,
   "id": "1a40c769-97fd-44de-990f-61c5730bdb1e",
   "metadata": {},
   "outputs": [
    {
     "data": {
      "text/plain": [
       "array([[1, 2, 3],\n",
       "       [4, 5, 6]])"
      ]
     },
     "execution_count": 5,
     "metadata": {},
     "output_type": "execute_result"
    }
   ],
   "source": [
    "data = np.array([[1,2,3],[4,5,6]])\n",
    "data"
   ]
  },
  {
   "cell_type": "code",
   "execution_count": 6,
   "id": "a0385ad7-74aa-4ea1-9503-d0c01520ef5c",
   "metadata": {},
   "outputs": [
    {
     "data": {
      "text/html": [
       "<div>\n",
       "<style scoped>\n",
       "    .dataframe tbody tr th:only-of-type {\n",
       "        vertical-align: middle;\n",
       "    }\n",
       "\n",
       "    .dataframe tbody tr th {\n",
       "        vertical-align: top;\n",
       "    }\n",
       "\n",
       "    .dataframe thead th {\n",
       "        text-align: right;\n",
       "    }\n",
       "</style>\n",
       "<table border=\"1\" class=\"dataframe\">\n",
       "  <thead>\n",
       "    <tr style=\"text-align: right;\">\n",
       "      <th></th>\n",
       "      <th>A</th>\n",
       "      <th>B</th>\n",
       "      <th>C</th>\n",
       "    </tr>\n",
       "  </thead>\n",
       "  <tbody>\n",
       "    <tr>\n",
       "      <th>0</th>\n",
       "      <td>1</td>\n",
       "      <td>2</td>\n",
       "      <td>3</td>\n",
       "    </tr>\n",
       "    <tr>\n",
       "      <th>1</th>\n",
       "      <td>4</td>\n",
       "      <td>5</td>\n",
       "      <td>6</td>\n",
       "    </tr>\n",
       "  </tbody>\n",
       "</table>\n",
       "</div>"
      ],
      "text/plain": [
       "   A  B  C\n",
       "0  1  2  3\n",
       "1  4  5  6"
      ]
     },
     "execution_count": 6,
     "metadata": {},
     "output_type": "execute_result"
    }
   ],
   "source": [
    "df = pd.DataFrame(data,dtype=int,columns=['A','B','C'])\n",
    "df"
   ]
  },
  {
   "cell_type": "markdown",
   "id": "01656b03-8fbf-4f3a-9677-c39c3e0fa4f0",
   "metadata": {},
   "source": [
    "# Menggunakan LaTex"
   ]
  },
  {
   "cell_type": "code",
   "execution_count": 7,
   "id": "b7cd249a-cd5b-4f19-b56a-9f44111947cf",
   "metadata": {},
   "outputs": [],
   "source": [
    "# Menggunakan perintah $$ (isi perintah) $$ pada cell Markdown "
   ]
  },
  {
   "cell_type": "markdown",
   "id": "8294c883-57f3-4450-a9c6-f35dca836db5",
   "metadata": {},
   "source": [
    "$$ c = \\sqrt{a^2 + b^2}$$"
   ]
  },
  {
   "cell_type": "code",
   "execution_count": 8,
   "id": "13502fe8-fa77-4608-9c25-724a9351a135",
   "metadata": {},
   "outputs": [
    {
     "data": {
      "text/latex": [
       "$\\displaystyle \\sqrt{a^2 + b^2}$"
      ],
      "text/plain": [
       "<IPython.core.display.Math object>"
      ]
     },
     "metadata": {},
     "output_type": "display_data"
    }
   ],
   "source": [
    "from IPython.display import display, Math, Latex\n",
    "display(Math(r'\\sqrt{a^2 + b^2}'))"
   ]
  },
  {
   "cell_type": "markdown",
   "id": "64087768-a997-4288-a763-7d83ac5e21dd",
   "metadata": {},
   "source": [
    "# executing shell commands"
   ]
  },
  {
   "cell_type": "code",
   "execution_count": 9,
   "id": "6d92a0d2-a97b-4027-9502-25da749e825b",
   "metadata": {},
   "outputs": [
    {
     "name": "stderr",
     "output_type": "stream",
     "text": [
      "'ls' is not recognized as an internal or external command,\n",
      "operable program or batch file.\n",
      "'pwd' is not recognized as an internal or external command,\n",
      "operable program or batch file.\n"
     ]
    },
    {
     "name": "stdout",
     "output_type": "stream",
     "text": [
      "'Hello Python'\n"
     ]
    }
   ],
   "source": [
    "!ls\n",
    "!pwd\n",
    "!echo 'Hello Python'"
   ]
  },
  {
   "cell_type": "markdown",
   "id": "7ecb214a-0edd-4ce6-b71a-83df06b3cab4",
   "metadata": {},
   "source": [
    "# pass Value from and To Shell"
   ]
  },
  {
   "cell_type": "code",
   "execution_count": 10,
   "id": "1296ef8b-e8b2-4a42-843b-e19ed289e4cf",
   "metadata": {},
   "outputs": [
    {
     "name": "stdout",
     "output_type": "stream",
     "text": [
      "[\"'ls' is not recognized as an internal or external command,\", 'operable program or batch file.']\n"
     ]
    }
   ],
   "source": [
    "files = !ls\n",
    "print(files)"
   ]
  },
  {
   "cell_type": "markdown",
   "id": "9dcd09bd-618c-4a83-907f-2e7772fd0953",
   "metadata": {},
   "source": [
    "# widget"
   ]
  },
  {
   "cell_type": "code",
   "execution_count": 11,
   "id": "6b1d318c-168d-4176-9409-9d76e02d5289",
   "metadata": {},
   "outputs": [],
   "source": [
    "from ipywidgets import interact\n",
    "import ipywidgets as widgets"
   ]
  },
  {
   "cell_type": "markdown",
   "id": "ace05a37-775a-4a73-aa64-000b00fd441b",
   "metadata": {},
   "source": [
    "# - basic slider"
   ]
  },
  {
   "cell_type": "code",
   "execution_count": 12,
   "id": "467743ff-c570-40fc-a840-2abf360a1519",
   "metadata": {},
   "outputs": [
    {
     "data": {
      "application/vnd.jupyter.widget-view+json": {
       "model_id": "a36c32419a1f45de8d6086fbc5c6f883",
       "version_major": 2,
       "version_minor": 0
      },
      "text/plain": [
       "interactive(children=(IntSlider(value=10, description='x', max=30, min=-10), Output()), _dom_classes=('widget-…"
      ]
     },
     "metadata": {},
     "output_type": "display_data"
    },
    {
     "data": {
      "text/plain": [
       "<function __main__.f(x)>"
      ]
     },
     "execution_count": 12,
     "metadata": {},
     "output_type": "execute_result"
    }
   ],
   "source": [
    "def f(x):\n",
    "    return x\n",
    "interact(f,x=10)"
   ]
  },
  {
   "cell_type": "markdown",
   "id": "20493491-64fa-4d04-b48b-55fd41c8b283",
   "metadata": {},
   "source": [
    "# - checkbox"
   ]
  },
  {
   "cell_type": "code",
   "execution_count": 13,
   "id": "3a43d923-c99b-43f2-b89e-81ae551cdce1",
   "metadata": {},
   "outputs": [
    {
     "data": {
      "application/vnd.jupyter.widget-view+json": {
       "model_id": "1c4aee1ae88e479ca1b7682481b24547",
       "version_major": 2,
       "version_minor": 0
      },
      "text/plain": [
       "interactive(children=(Checkbox(value=True, description='x'), Output()), _dom_classes=('widget-interact',))"
      ]
     },
     "metadata": {},
     "output_type": "display_data"
    },
    {
     "data": {
      "text/plain": [
       "<function __main__.f(x)>"
      ]
     },
     "execution_count": 13,
     "metadata": {},
     "output_type": "execute_result"
    }
   ],
   "source": [
    "interact(f,x=True)"
   ]
  },
  {
   "cell_type": "markdown",
   "id": "f4d6c7d3-0f56-4662-b89e-04ad7494433d",
   "metadata": {},
   "source": [
    "# - Textbox"
   ]
  },
  {
   "cell_type": "code",
   "execution_count": 14,
   "id": "bd1a60d0-39e6-4503-8b81-c652b3e0906e",
   "metadata": {},
   "outputs": [
    {
     "data": {
      "application/vnd.jupyter.widget-view+json": {
       "model_id": "5956d645af034c0a961396b81d413281",
       "version_major": 2,
       "version_minor": 0
      },
      "text/plain": [
       "interactive(children=(Text(value='Hello Kode', description='x'), Output()), _dom_classes=('widget-interact',))"
      ]
     },
     "metadata": {},
     "output_type": "display_data"
    },
    {
     "data": {
      "text/plain": [
       "<function __main__.f(x)>"
      ]
     },
     "execution_count": 14,
     "metadata": {},
     "output_type": "execute_result"
    }
   ],
   "source": [
    "interact(f,x='Hello Kode')"
   ]
  },
  {
   "cell_type": "markdown",
   "id": "45309568-b17f-4fa4-bbb6-4425647c2c2c",
   "metadata": {},
   "source": [
    "# - play button"
   ]
  },
  {
   "cell_type": "code",
   "execution_count": 15,
   "id": "59796a26-14d0-4f07-8d36-9cc31496599b",
   "metadata": {},
   "outputs": [
    {
     "data": {
      "application/vnd.jupyter.widget-view+json": {
       "model_id": "7e54e7afe52249a6a698eb4a7d68fc6a",
       "version_major": 2,
       "version_minor": 0
      },
      "text/plain": [
       "HBox(children=(Play(value=50, description='Tekan Play'), IntSlider(value=0)))"
      ]
     },
     "metadata": {},
     "output_type": "display_data"
    }
   ],
   "source": [
    "play = widgets.Play(value=50, min=0, max=100, step=1, description=\"Tekan Play\", disabled=False)\n",
    "slider = widgets.IntSlider()\n",
    "widgets.jslink((play,'value'),(slider,'value'))\n",
    "widgets.HBox([play,slider])"
   ]
  },
  {
   "cell_type": "markdown",
   "id": "19a13986-f286-4fec-b7a7-6e193ab6fa56",
   "metadata": {},
   "source": [
    "# - Date picker"
   ]
  },
  {
   "cell_type": "code",
   "execution_count": 22,
   "id": "f07e918b-f7f3-4775-8b92-7faf68733688",
   "metadata": {},
   "outputs": [
    {
     "data": {
      "application/vnd.jupyter.widget-view+json": {
       "model_id": "973158ca3ffa4705abcbf81bee81ed6c",
       "version_major": 2,
       "version_minor": 0
      },
      "text/plain": [
       "DatePicker(value=None, description='Pilih Tanggal')"
      ]
     },
     "metadata": {},
     "output_type": "display_data"
    }
   ],
   "source": [
    "widgets.DatePicker(\n",
    "    description='Pilih Tanggal',\n",
    "    disabled=False\n",
    "\n",
    ")"
   ]
  },
  {
   "cell_type": "code",
   "execution_count": 23,
   "id": "feb60ec1-e84e-478e-b160-d71689b29e8e",
   "metadata": {},
   "outputs": [
    {
     "data": {
      "application/vnd.jupyter.widget-view+json": {
       "model_id": "7014d1bc799b4354afec5d6c84faf31e",
       "version_major": 2,
       "version_minor": 0
      },
      "text/plain": [
       "Tab(children=(Text(value='', description='K0'), Text(value='', description='K1'), Text(value='', description='…"
      ]
     },
     "metadata": {},
     "output_type": "display_data"
    }
   ],
   "source": [
    "tabs_content = ['K0','K1','K2','K3','K4']\n",
    "children = [widgets.Text(description=name)for name in tabs_content]\n",
    "tab = widgets.Tab()\n",
    "tab.children = children\n",
    "for i in range(len(children)):\n",
    "    tab.set_title(i, str(i))\n",
    "tab\n"
   ]
  },
  {
   "cell_type": "code",
   "execution_count": null,
   "id": "aa3809d4-fb60-40b4-ad44-b187ee5971da",
   "metadata": {},
   "outputs": [],
   "source": []
  }
 ],
 "metadata": {
  "kernelspec": {
   "display_name": "Python 3 (ipykernel)",
   "language": "python",
   "name": "python3"
  },
  "language_info": {
   "codemirror_mode": {
    "name": "ipython",
    "version": 3
   },
   "file_extension": ".py",
   "mimetype": "text/x-python",
   "name": "python",
   "nbconvert_exporter": "python",
   "pygments_lexer": "ipython3",
   "version": "3.8.8"
  }
 },
 "nbformat": 4,
 "nbformat_minor": 5
}
