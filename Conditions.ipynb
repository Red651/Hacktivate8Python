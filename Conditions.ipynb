{
 "cells": [
  {
   "cell_type": "markdown",
   "id": "28071b6d-8f5e-4b99-ae1f-8c61598fe4bd",
   "metadata": {},
   "source": [
    "# Conditions, Control Flow, and Looping"
   ]
  },
  {
   "cell_type": "code",
   "execution_count": 1,
   "id": "048d05fe-48a9-4703-a24d-d7e4e5a13918",
   "metadata": {},
   "outputs": [
    {
     "name": "stdout",
     "output_type": "stream",
     "text": [
      "False\n",
      "True\n",
      "True\n",
      "False\n",
      "False\n",
      "True\n"
     ]
    }
   ],
   "source": [
    "a = 10\n",
    "b = 20\n",
    "\n",
    "print(a == b)\n",
    "print(a != b)\n",
    "print(a <= b)\n",
    "print(a >= b)\n",
    "print(a > b)\n",
    "print(a < b)"
   ]
  },
  {
   "cell_type": "code",
   "execution_count": null,
   "id": "5aa5e38d-99fb-42b2-8aed-4cd00e9b1b44",
   "metadata": {},
   "outputs": [],
   "source": [
    "if a != b:\n",
    "    print(\"a tidak sama dengan b\")"
   ]
  },
  {
   "cell_type": "code",
   "execution_count": null,
   "id": "abf70857-d8e4-48aa-ad49-0eca5dbc180e",
   "metadata": {},
   "outputs": [],
   "source": [
    "if a == b:\n",
    "    print(\"a tidak sama dengan b\")"
   ]
  },
  {
   "cell_type": "code",
   "execution_count": null,
   "id": "8878a2b8-aad5-4a2b-a5a8-19d931f94b8e",
   "metadata": {},
   "outputs": [],
   "source": [
    "if a == b:\n",
    "    print(a)\n",
    "    print(a/10)\n",
    "    print(b)\n",
    "    print(\"a tidak sama dengan b\")"
   ]
  },
  {
   "cell_type": "code",
   "execution_count": null,
   "id": "58a180a5-d632-4092-8c69-5b579f30dff2",
   "metadata": {},
   "outputs": [],
   "source": [
    "if 'foo' in 'This is our goods':\n",
    "    print('foo exists')"
   ]
  },
  {
   "cell_type": "code",
   "execution_count": 5,
   "id": "b9f9a175-d7c2-4841-9592-577042ced49e",
   "metadata": {},
   "outputs": [
    {
     "name": "stdout",
     "output_type": "stream",
     "text": [
      "tidak ada 20 di dalam\n"
     ]
    }
   ],
   "source": [
    "list1 = [10,50,30,40]\n",
    "\n",
    "if 20 in list1:\n",
    "    print('ada 20 di dalam')\n",
    "else:\n",
    "    print('tidak ada 20 di dalam')"
   ]
  },
  {
   "cell_type": "code",
   "execution_count": 6,
   "id": "734302e0-e2cc-49b0-935f-ee4f997b98b6",
   "metadata": {},
   "outputs": [
    {
     "name": "stdout",
     "output_type": "stream",
     "text": [
      "10\n",
      "1.0\n",
      "20\n",
      "a tidak sama dengan b\n",
      "ini di luar if statement\n"
     ]
    }
   ],
   "source": [
    "if a != b:\n",
    "    print(a)\n",
    "    print(a/10)\n",
    "    print(b)\n",
    "    print(\"a tidak sama dengan b\")\n",
    "\n",
    "print('ini di luar if statement')"
   ]
  },
  {
   "cell_type": "code",
   "execution_count": 7,
   "id": "8ed29d46-fbe2-4667-bc70-bb4808bf1c11",
   "metadata": {},
   "outputs": [
    {
     "name": "stdout",
     "output_type": "stream",
     "text": [
      "a tidak sama dengan b\n",
      "statement di dalam if pertama tapi di luar if kedua\n",
      "a lebih besar dari b\n"
     ]
    }
   ],
   "source": [
    "a = 50\n",
    "b = 20\n",
    "\n",
    "if a != b:\n",
    "    print('a tidak sama dengan b')\n",
    "    if a < b:\n",
    "        print('a lebih kecil dari b')\n",
    "    \n",
    "    print('statement di dalam if pertama tapi di luar if kedua')\n",
    "\n",
    "    if a > b:\n",
    "        print('a lebih besar dari b')"
   ]
  },
  {
   "cell_type": "code",
   "execution_count": 9,
   "id": "3f213b1f-e75e-487e-bb02-e22869e3d03a",
   "metadata": {},
   "outputs": [
    {
     "data": {
      "text/plain": [
       "'belum punya KTP'"
      ]
     },
     "execution_count": 9,
     "metadata": {},
     "output_type": "execute_result"
    }
   ],
   "source": [
    "umur = 15\n",
    "\n",
    "if umur < 17:\n",
    "    status_ktp = 'belum punya KTP'\n",
    "else:\n",
    "    status_ktp = 'sudah punya KTP'\n",
    "\n",
    "\n",
    "status_ktp = 'belum punya KTP' if umur < 17 else 'sudah punya ktp'\n",
    "status_ktp"
   ]
  },
  {
   "cell_type": "code",
   "execution_count": 10,
   "id": "fe38840e-1e34-4a6e-9352-646750b591d5",
   "metadata": {},
   "outputs": [
    {
     "name": "stdout",
     "output_type": "stream",
     "text": [
      "masuk sini\n"
     ]
    }
   ],
   "source": [
    "if a > b:\n",
    "    pass\n",
    "\n",
    "print('masuk sini')"
   ]
  },
  {
   "cell_type": "markdown",
   "id": "0afd2060-03fc-442d-8f62-836752ff5271",
   "metadata": {},
   "source": [
    "# Looping"
   ]
  },
  {
   "cell_type": "markdown",
   "id": "55b6e27a-ef7a-44fb-b5d4-2651c5bac611",
   "metadata": {
    "tags": [],
    "toc-hr-collapsed": true
   },
   "source": [
    "## While Loop"
   ]
  },
  {
   "cell_type": "code",
   "execution_count": 12,
   "id": "89a030fc-0f7d-449e-b935-28076d6b52a2",
   "metadata": {},
   "outputs": [
    {
     "name": "stdout",
     "output_type": "stream",
     "text": [
      "10\n",
      "9\n",
      "8\n",
      "7\n",
      "6\n",
      "5\n",
      "4\n",
      "3\n",
      "2\n",
      "1\n"
     ]
    }
   ],
   "source": [
    "a = 10\n",
    "\n",
    "while a > 0:\n",
    "    print(a)\n",
    "    # a = a -1\n",
    "    a -= 1"
   ]
  },
  {
   "cell_type": "code",
   "execution_count": 13,
   "id": "1b665409-3e16-4107-98a2-33c6fcc4e6db",
   "metadata": {},
   "outputs": [
    {
     "name": "stdout",
     "output_type": "stream",
     "text": [
      "0\n",
      "2\n",
      "4\n",
      "6\n",
      "8\n"
     ]
    }
   ],
   "source": [
    "i = 0\n",
    "while i < 10:\n",
    "    print(i)\n",
    "    i += 2 # i = i + 2"
   ]
  },
  {
   "cell_type": "code",
   "execution_count": 14,
   "id": "058cb008-5971-4a76-aa0d-9a7e2277e87d",
   "metadata": {},
   "outputs": [
    {
     "name": "stdout",
     "output_type": "stream",
     "text": [
      "0\n",
      "1\n",
      "2\n",
      "di luar loop\n"
     ]
    }
   ],
   "source": [
    "i = 0\n",
    "while i < 10:\n",
    "    if i == 3:\n",
    "        break\n",
    "    print(i)\n",
    "    i += 1 # i = i + 1\n",
    "\n",
    "print('di luar loop')"
   ]
  },
  {
   "cell_type": "code",
   "execution_count": 15,
   "id": "ad16ea9d-0121-480c-b4ca-3637963e625a",
   "metadata": {},
   "outputs": [
    {
     "name": "stdout",
     "output_type": "stream",
     "text": [
      "1\n",
      "2\n",
      "3\n",
      "4\n",
      "di luar loop\n"
     ]
    }
   ],
   "source": [
    "i = 0\n",
    "while i < 10:\n",
    "    i += 1 # i = i + 1\n",
    "    if i == 5:\n",
    "        break    \n",
    "    print(i)    \n",
    "\n",
    "print('di luar loop')"
   ]
  },
  {
   "cell_type": "code",
   "execution_count": 18,
   "id": "9e0df4e0-e266-48b3-a70c-c0a6b8b58982",
   "metadata": {},
   "outputs": [
    {
     "name": "stdout",
     "output_type": "stream",
     "text": [
      "0 0 0 0 0 0 0 0 0 0 \n",
      "1 1 1 1 1 1 1 1 1 1 \n",
      "2 2 2 2 2 2 2 2 2 2 \n",
      "3 3 3 3 3 3 3 3 3 3 \n",
      "4 4 4 4 4 4 4 4 4 4 \n",
      "5 5 5 5 5 5 5 5 5 5 \n",
      "6 6 6 6 6 6 6 6 6 6 \n",
      "7 7 7 7 7 7 7 7 7 7 \n",
      "8 8 8 8 8 8 8 8 8 8 \n",
      "9 9 9 9 9 9 9 9 9 9 \n"
     ]
    }
   ],
   "source": [
    "i = j = 0\n",
    "\n",
    "while i < 10:\n",
    "    j = 0\n",
    "    while j < 10:\n",
    "        print(i, end=' ')\n",
    "        j+=1\n",
    "    print()\n",
    "    i+=1"
   ]
  },
  {
   "cell_type": "code",
   "execution_count": 22,
   "id": "50a5c540-6356-4fbc-a0bd-8e2b7f635d96",
   "metadata": {},
   "outputs": [
    {
     "name": "stdout",
     "output_type": "stream",
     "text": [
      "0 0 0 \n",
      "1 1 1 \n",
      "2 2 2 \n",
      "3 3 3 \n",
      "4 4 4 \n",
      "5 5 5 \n",
      "6 6 6 \n",
      "7 7 7 \n",
      "8 8 8 \n",
      "9 9 9 \n"
     ]
    }
   ],
   "source": [
    "p = 0\n",
    "while p < 10:\n",
    "    l = 0\n",
    "    while l < 3:\n",
    "        print(p, end=' ')\n",
    "        l += 1\n",
    "    print()\n",
    "    p += 1"
   ]
  },
  {
   "cell_type": "code",
   "execution_count": 23,
   "id": "08186583-22ad-4a68-b12a-b73a9c02b0d3",
   "metadata": {},
   "outputs": [
    {
     "name": "stdout",
     "output_type": "stream",
     "text": [
      "1\n",
      "2\n",
      "di luar loop\n"
     ]
    }
   ],
   "source": [
    "i = 0\n",
    "while i < 10:\n",
    "    i += 1 # i = i + 1\n",
    "    if i == 3:\n",
    "        break    \n",
    "    print(i)\n",
    "else:\n",
    "    print('Akhir Loop')\n",
    "\n",
    "print('di luar loop') "
   ]
  },
  {
   "cell_type": "markdown",
   "id": "f3c81b44-58ce-4f00-94dd-a8175e86049f",
   "metadata": {},
   "source": [
    "## For Loop"
   ]
  },
  {
   "cell_type": "code",
   "execution_count": 24,
   "id": "fcc98fb7-5828-4e46-91ae-d57516e4a119",
   "metadata": {},
   "outputs": [
    {
     "name": "stdout",
     "output_type": "stream",
     "text": [
      "abc\n",
      "3\n",
      "def\n",
      "3\n",
      "hija\n",
      "4\n",
      "klm\n",
      "3\n"
     ]
    }
   ],
   "source": [
    "list2 = ['abc', 'def', 'hija', 'klm']\n",
    "\n",
    "for i in list2:\n",
    "    print(i)\n",
    "    print(len(i))"
   ]
  },
  {
   "cell_type": "code",
   "execution_count": 25,
   "id": "7ae04cc6-5fcf-4209-8076-4e288d627c1a",
   "metadata": {},
   "outputs": [
    {
     "name": "stdout",
     "output_type": "stream",
     "text": [
      "pertama\n",
      "1\n",
      "kedua\n",
      "2\n",
      "ketiga\n",
      "3\n",
      "keempat\n",
      "4\n"
     ]
    }
   ],
   "source": [
    "dictionary1 = {\n",
    "    'pertama': 1,\n",
    "    'kedua': 2,\n",
    "    'ketiga': 3,\n",
    "    'keempat': 4\n",
    "}\n",
    "\n",
    "for key in dictionary1:\n",
    "    print(key)\n",
    "    print(dictionary1[key])"
   ]
  },
  {
   "cell_type": "code",
   "execution_count": 26,
   "id": "2bf4b37f-ab78-48b1-8a4d-58421315d8fd",
   "metadata": {},
   "outputs": [
    {
     "name": "stdout",
     "output_type": "stream",
     "text": [
      "0\n",
      "1\n",
      "2\n",
      "3\n",
      "4\n"
     ]
    }
   ],
   "source": [
    "for number in (0,1,2,3,4):\n",
    "    print(number)"
   ]
  },
  {
   "cell_type": "code",
   "execution_count": 27,
   "id": "54dd2550-e479-43b8-87ea-c64afa9b6791",
   "metadata": {},
   "outputs": [
    {
     "name": "stdout",
     "output_type": "stream",
     "text": [
      "1\n",
      "2\n"
     ]
    }
   ],
   "source": [
    "for i in range(1,11):\n",
    "    if i == 3:\n",
    "        break\n",
    "    print(i)"
   ]
  },
  {
   "cell_type": "code",
   "execution_count": 28,
   "id": "910eb820-d83c-4900-8d37-f8459019e02f",
   "metadata": {},
   "outputs": [
    {
     "name": "stdout",
     "output_type": "stream",
     "text": [
      "1\n",
      "2\n"
     ]
    }
   ],
   "source": [
    "for i in range(1,11):\n",
    "    if i == 3:\n",
    "        break\n",
    "    print(i)\n",
    "else:\n",
    "    print(\"Loop Selesai\")"
   ]
  },
  {
   "cell_type": "code",
   "execution_count": 33,
   "id": "f607da16-0e26-46e9-9163-0573a3d8fe55",
   "metadata": {},
   "outputs": [
    {
     "name": "stdout",
     "output_type": "stream",
     "text": [
      "1\n",
      "2\n",
      "4\n",
      "5\n",
      "6\n",
      "7\n",
      "8\n",
      "9\n",
      "10\n",
      "Loop Selesai\n"
     ]
    }
   ],
   "source": [
    "for i in range(1,11):\n",
    "    if i == 3:\n",
    "        continue\n",
    "    print(i)\n",
    "else:\n",
    "    print(\"Loop Selesai\")"
   ]
  },
  {
   "cell_type": "code",
   "execution_count": null,
   "id": "88d3af86-970f-4f9c-8cf6-c4baa6edf9cf",
   "metadata": {},
   "outputs": [],
   "source": []
  }
 ],
 "metadata": {
  "kernelspec": {
   "display_name": "Python 3 (ipykernel)",
   "language": "python",
   "name": "python3"
  },
  "language_info": {
   "codemirror_mode": {
    "name": "ipython",
    "version": 3
   },
   "file_extension": ".py",
   "mimetype": "text/x-python",
   "name": "python",
   "nbconvert_exporter": "python",
   "pygments_lexer": "ipython3",
   "version": "3.8.8"
  }
 },
 "nbformat": 4,
 "nbformat_minor": 5
}
