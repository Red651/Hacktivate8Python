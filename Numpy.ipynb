{
 "cells": [
  {
   "attachments": {},
   "cell_type": "markdown",
   "id": "752e7d0e",
   "metadata": {},
   "source": [
    "## Numpy\n",
    "Seri belajar Numpy\n",
    "pertemuan ke-4"
   ]
  },
  {
   "cell_type": "code",
   "execution_count": 1,
   "id": "d3f2f7e7",
   "metadata": {},
   "outputs": [],
   "source": [
    "# belajar numpy\n",
    "# hal yang pertama dilakukan adalah menginstall numpy\n",
    "# !pip install numpy"
   ]
  },
  {
   "cell_type": "code",
   "execution_count": 2,
   "id": "35bfa899-86ea-4db9-8a6c-9d78f7068f1e",
   "metadata": {},
   "outputs": [],
   "source": [
    "# setelah itu kita import numpy\n",
    "import numpy as np"
   ]
  },
  {
   "attachments": {},
   "cell_type": "markdown",
   "id": "24fb3582",
   "metadata": {},
   "source": [
    "<p>numpy adalah library python yang digunakan untuk melakukan perhitungan matematika<br>\n",
    "numpy juga memiliki fungsi operasi yang sangat cepat, sehingga sangat cocok untuk digunakan dalam machine learning</p>\n",
    "\n",
    "<i>alasan menggunakan numpy adalah karena numpy lebih cepat dari pada list dan sebuah array numpy menggunakan lebih sedikit memori daripada list </i>\n"
   ]
  },
  {
   "cell_type": "code",
   "execution_count": 3,
   "id": "9033dfbe",
   "metadata": {},
   "outputs": [
    {
     "name": "stdout",
     "output_type": "stream",
     "text": [
      "[[1 2 3]\n",
      " [4 5 6]]\n"
     ]
    }
   ],
   "source": [
    "# salah satu cara menginisialisasi array adalah dari nested list\n",
    "a = np.array([[1,2,3],[4,5,6]]) # ini adalah cara menginisialisasi array 2 dimensi\n",
    "print(a)"
   ]
  },
  {
   "cell_type": "code",
   "execution_count": 4,
   "id": "0d1db42b-b60a-4561-b714-59eb3b062f7f",
   "metadata": {},
   "outputs": [
    {
     "name": "stdout",
     "output_type": "stream",
     "text": [
      "[1 2 3 4 5]\n"
     ]
    }
   ],
   "source": [
    "# membuat array 1 dimensi\n",
    "b = np.array([1,2,3,4,5])\n",
    "print(b)"
   ]
  },
  {
   "cell_type": "code",
   "execution_count": 5,
   "id": "ebafccb7",
   "metadata": {},
   "outputs": [],
   "source": [
    "# membuat array 3 dimensi\n",
    "c = np.array([[[1,2,3],[4,5,6]],[[7,8,9],[10,11,12]]])\n"
   ]
  },
  {
   "cell_type": "code",
   "execution_count": 6,
   "id": "00fcd23d",
   "metadata": {},
   "outputs": [],
   "source": [
    "# tipe data array harus sama semua tidak boleh campuran"
   ]
  },
  {
   "cell_type": "code",
   "execution_count": 7,
   "id": "08d49ae9",
   "metadata": {},
   "outputs": [
    {
     "name": "stdout",
     "output_type": "stream",
     "text": [
      "[[0. 0. 0. 0.]\n",
      " [0. 0. 0. 0.]\n",
      " [0. 0. 0. 0.]]\n"
     ]
    }
   ],
   "source": [
    "# membuat array zeros\n",
    "array_zeros = np.zeros((3,4))\n",
    "print(array_zeros)"
   ]
  },
  {
   "cell_type": "code",
   "execution_count": 8,
   "id": "b3b8802f",
   "metadata": {},
   "outputs": [
    {
     "name": "stdout",
     "output_type": "stream",
     "text": [
      "[[1. 1. 1. 1.]\n",
      " [1. 1. 1. 1.]\n",
      " [1. 1. 1. 1.]]\n"
     ]
    }
   ],
   "source": [
    "# membuat array ones\n",
    "array_ones = np.ones((3,4))\n",
    "print(array_ones)"
   ]
  },
  {
   "cell_type": "code",
   "execution_count": 9,
   "id": "2ae24453",
   "metadata": {},
   "outputs": [],
   "source": [
    "# kegunaan dari array zeros dan ones adalah untuk membuat array dengan nilai awal 0 atau 1"
   ]
  },
  {
   "cell_type": "code",
   "execution_count": 10,
   "id": "fad03bdf",
   "metadata": {},
   "outputs": [
    {
     "name": "stdout",
     "output_type": "stream",
     "text": [
      "[[1. 1. 1. 1.]\n",
      " [1. 1. 1. 1.]\n",
      " [1. 1. 1. 1.]]\n"
     ]
    }
   ],
   "source": [
    "# membuat array dengan nilai empty\n",
    "array_empty = np.empty((3,4))\n",
    "print(array_empty)"
   ]
  },
  {
   "cell_type": "code",
   "execution_count": 11,
   "id": "11dee0cc",
   "metadata": {},
   "outputs": [],
   "source": [
    "# kegunaan dari array empty adalah untuk \n",
    "# membuat array dengan nilai awal random dan tergantung dari memory yang tersedia."
   ]
  },
  {
   "cell_type": "code",
   "execution_count": 12,
   "id": "afb581eb",
   "metadata": {},
   "outputs": [
    {
     "name": "stdout",
     "output_type": "stream",
     "text": [
      "[10 12 14 16 18 20 22 24]\n"
     ]
    }
   ],
   "source": [
    "# membuat array menggunakan arrange\n",
    "array_arange = np.arange(10,25,2) # 10 adalah nilai awal, 25 adalah nilai akhir, 2 adalah step\n",
    "print(array_arange) # fungsi range ini adalah untuk membuat array dengan nilai awal, nilai akhir, dan step"
   ]
  },
  {
   "cell_type": "code",
   "execution_count": 13,
   "id": "90c3c5df",
   "metadata": {},
   "outputs": [
    {
     "data": {
      "text/plain": [
       "array([1, 2, 3, 4, 5])"
      ]
     },
     "execution_count": 13,
     "metadata": {},
     "output_type": "execute_result"
    }
   ],
   "source": [
    "# add array\n",
    "arr = np.array([1,2,3,4,5])\n",
    "arr "
   ]
  },
  {
   "cell_type": "code",
   "execution_count": 14,
   "id": "675ef35c",
   "metadata": {},
   "outputs": [
    {
     "data": {
      "text/plain": [
       "array([ 1,  2,  3,  4,  5,  6,  7,  8,  9, 10])"
      ]
     },
     "execution_count": 14,
     "metadata": {},
     "output_type": "execute_result"
    }
   ],
   "source": [
    "# menambahkan array dengan fungsi append\n",
    "np.append(arr, [6,7,8,9,10]) "
   ]
  },
  {
   "cell_type": "code",
   "execution_count": 15,
   "id": "4a4027c5",
   "metadata": {},
   "outputs": [
    {
     "data": {
      "text/plain": [
       "array([1, 3, 5])"
      ]
     },
     "execution_count": 15,
     "metadata": {},
     "output_type": "execute_result"
    }
   ],
   "source": [
    "# menghapus array dengan fungsi delete\n",
    "np.delete(arr, [1,3]) # 1 dan 3 adalah index yang akan dihapus"
   ]
  },
  {
   "cell_type": "code",
   "execution_count": 16,
   "id": "6923112d",
   "metadata": {},
   "outputs": [
    {
     "data": {
      "text/plain": [
       "array([1, 2, 3, 4, 5])"
      ]
     },
     "execution_count": 16,
     "metadata": {},
     "output_type": "execute_result"
    }
   ],
   "source": [
    "# mengurutkan array dengan fungsi sort\n",
    "array_sort = np.array([2,1,4,3,5])\n",
    "np.sort(array_sort)"
   ]
  },
  {
   "cell_type": "code",
   "execution_count": 17,
   "id": "275ed530",
   "metadata": {},
   "outputs": [],
   "source": [
    "# shape dan size"
   ]
  },
  {
   "cell_type": "code",
   "execution_count": 18,
   "id": "46ea9106",
   "metadata": {},
   "outputs": [],
   "source": [
    "# shape adalah untuk mengetahui dimensi dari array yang kita buat\n",
    "# size adalah untuk mengetahui jumlah elemen dari array yang kita buat"
   ]
  },
  {
   "cell_type": "code",
   "execution_count": 19,
   "id": "a3ac7b01",
   "metadata": {},
   "outputs": [
    {
     "data": {
      "text/plain": [
       "(2, 3)"
      ]
     },
     "execution_count": 19,
     "metadata": {},
     "output_type": "execute_result"
    }
   ],
   "source": [
    "# contoh shape\n",
    "array_shape = np.array([[1,2,3],[4,5,6]])\n",
    "array_shape.shape # hasilnya adalah (2,3) dimana 2 adalah jumlah baris dan 3 adalah jumlah kolom"
   ]
  },
  {
   "cell_type": "code",
   "execution_count": 20,
   "id": "d3ed596a",
   "metadata": {},
   "outputs": [
    {
     "data": {
      "text/plain": [
       "6"
      ]
     },
     "execution_count": 20,
     "metadata": {},
     "output_type": "execute_result"
    }
   ],
   "source": [
    "# contoh size\n",
    "array_size = np.array([[1,2,3],[4,5,6]])\n",
    "array_size.size # hasilnya adalah 6, yang dimana 6 adalah jumlah elemen dari array\n"
   ]
  },
  {
   "cell_type": "code",
   "execution_count": 21,
   "id": "497b636f",
   "metadata": {},
   "outputs": [
    {
     "data": {
      "text/plain": [
       "2"
      ]
     },
     "execution_count": 21,
     "metadata": {},
     "output_type": "execute_result"
    }
   ],
   "source": [
    "# ndim adalah untuk mengetahui jumlah dimensi dari array yang kita buat\n",
    "array_ndim = np.array([[1,2,3],[4,5,6]])\n",
    "array_ndim.ndim # hasilnya adalah 2, yang dimana 2 adalah jumlah dimensi dari array"
   ]
  },
  {
   "cell_type": "code",
   "execution_count": 33,
   "id": "944aa5f0",
   "metadata": {},
   "outputs": [
    {
     "data": {
      "text/plain": [
       "array([[[1, 2]],\n",
       "\n",
       "       [[3, 4]],\n",
       "\n",
       "       [[5, 6]]])"
      ]
     },
     "execution_count": 33,
     "metadata": {},
     "output_type": "execute_result"
    }
   ],
   "source": [
    "## reshaping array\n",
    "# reshaping array adalah untuk mengubah bentuk dari array yang kita buat\n",
    "# contoh reshaping array dari 2 dimensi menjadi 3 dimensi\n",
    "array_reshape = np.array([[1,2,3],[4,5,6]])\n",
    "array_reshape.reshape(3,1,2) # 3 adalah jumlah baris, 1 adalah jumlah kolom, 2 adalah jumlah elemen \n",
    "# hasilnya adalah array yang sudah di reshape menjadi 3 dimensi"
   ]
  },
  {
   "cell_type": "code",
   "execution_count": 34,
   "id": "bb8b691d",
   "metadata": {},
   "outputs": [
    {
     "data": {
      "text/plain": [
       "1"
      ]
     },
     "execution_count": 34,
     "metadata": {},
     "output_type": "execute_result"
    }
   ],
   "source": [
    "# indexing dan slicing\n",
    "# indexing adalah untuk mengambil nilai dari array yang kita buat\n",
    "\n",
    "# contoh indexing\n",
    "array_indexing = np.array([1,2,3,4,5,6,7,8,9,10])\n",
    "array_indexing[0] # hasilnya adalah 1, yang dimana 1 adalah nilai dari index ke 0"
   ]
  },
  {
   "cell_type": "code",
   "execution_count": 35,
   "id": "35c37abb",
   "metadata": {},
   "outputs": [
    {
     "data": {
      "text/plain": [
       "array([1, 2, 3])"
      ]
     },
     "execution_count": 35,
     "metadata": {},
     "output_type": "execute_result"
    }
   ],
   "source": [
    "array_indexing[0:3] # hasilnya adalah array([1,2,3]), yang dimana 1,2,3 adalah nilai dari index ke 0,1,2"
   ]
  },
  {
   "cell_type": "code",
   "execution_count": 36,
   "id": "00aed9f4",
   "metadata": {},
   "outputs": [
    {
     "data": {
      "text/plain": [
       "10"
      ]
     },
     "execution_count": 36,
     "metadata": {},
     "output_type": "execute_result"
    }
   ],
   "source": [
    "array_indexing[-1] # hasilnya adalah 10, yang dimana 10 adalah nilai dari index ke -1"
   ]
  },
  {
   "cell_type": "code",
   "execution_count": 37,
   "id": "ef289d22",
   "metadata": {},
   "outputs": [
    {
     "data": {
      "text/plain": [
       "array([ 6,  7,  8,  9, 10])"
      ]
     },
     "execution_count": 37,
     "metadata": {},
     "output_type": "execute_result"
    }
   ],
   "source": [
    "array_indexing[array_indexing > 5] # hasilnya adalah array([6,7,8,9,10]), yang dimana 6,7,8,9,10 adalah nilai dari index yang lebih dari 5"
   ]
  },
  {
   "cell_type": "code",
   "execution_count": 38,
   "id": "dddd3fc8",
   "metadata": {},
   "outputs": [
    {
     "data": {
      "text/plain": [
       "array([ 2,  4,  6,  8, 10])"
      ]
     },
     "execution_count": 38,
     "metadata": {},
     "output_type": "execute_result"
    }
   ],
   "source": [
    "array_indexing[array_indexing % 2 == 0] # hasilnya adalah array([2,4,6,8,10]), yang dimana 2,4,6,8,10 adalah nilai dari index yang habis dibagi 2"
   ]
  },
  {
   "cell_type": "code",
   "execution_count": 40,
   "id": "2cc48334",
   "metadata": {},
   "outputs": [
    {
     "data": {
      "text/plain": [
       "array([ 6,  8, 10])"
      ]
     },
     "execution_count": 40,
     "metadata": {},
     "output_type": "execute_result"
    }
   ],
   "source": [
    "array_indexing[(array_indexing > 5) & (array_indexing % 2 == 0)]"
   ]
  },
  {
   "cell_type": "code",
   "execution_count": 41,
   "id": "463f656a",
   "metadata": {},
   "outputs": [
    {
     "data": {
      "text/plain": [
       "array([1, 2, 3])"
      ]
     },
     "execution_count": 41,
     "metadata": {},
     "output_type": "execute_result"
    }
   ],
   "source": [
    "array_indexing[:3]"
   ]
  },
  {
   "cell_type": "code",
   "execution_count": 42,
   "id": "294f6b4f",
   "metadata": {},
   "outputs": [
    {
     "data": {
      "text/plain": [
       "array([1, 2, 3, 4])"
      ]
     },
     "execution_count": 42,
     "metadata": {},
     "output_type": "execute_result"
    }
   ],
   "source": [
    "array_indexing[:4]"
   ]
  },
  {
   "cell_type": "code",
   "execution_count": 45,
   "id": "7136a87c",
   "metadata": {},
   "outputs": [],
   "source": [
    "# np vstack dan hstack\n",
    "# vstack adalah untuk menggabungkan array secara vertikal (menumpuk)\n",
    "# hstack adalah untuk menggabungkan array secara horizontal (menumpuk)\n",
    "array1 = np.array([1,2,3])\n",
    "array2 = np.array([4,5,6])"
   ]
  },
  {
   "cell_type": "code",
   "execution_count": 47,
   "id": "e99ed901",
   "metadata": {},
   "outputs": [
    {
     "data": {
      "text/plain": [
       "array([[1, 2, 3],\n",
       "       [4, 5, 6]])"
      ]
     },
     "execution_count": 47,
     "metadata": {},
     "output_type": "execute_result"
    }
   ],
   "source": [
    "# contoh vstack\n",
    "np.vstack((array1,array2))"
   ]
  },
  {
   "cell_type": "code",
   "execution_count": 46,
   "id": "76b92d61",
   "metadata": {},
   "outputs": [
    {
     "data": {
      "text/plain": [
       "array([1, 2, 3, 4, 5, 6])"
      ]
     },
     "execution_count": 46,
     "metadata": {},
     "output_type": "execute_result"
    }
   ],
   "source": [
    "# contoh hstack\n",
    "np.hstack((array1,array2))"
   ]
  },
  {
   "cell_type": "code",
   "execution_count": 48,
   "id": "469b8930",
   "metadata": {},
   "outputs": [],
   "source": [
    "#split array\n",
    "# split array adalah untuk membagi array menjadi beberapa bagian\n",
    "arrsplit = np.array([\n",
    "    [1,2,3,4,5,6,7,8,9,10,11,12]\n",
    "    ,[13,14,15,16,17,18,19,20,21,22,23,24]\n",
    "])"
   ]
  },
  {
   "cell_type": "code",
   "execution_count": 49,
   "id": "3d6d3473",
   "metadata": {},
   "outputs": [
    {
     "data": {
      "text/plain": [
       "[array([[ 1,  2,  3,  4,  5,  6,  7,  8,  9, 10, 11, 12]]),\n",
       " array([[13, 14, 15, 16, 17, 18, 19, 20, 21, 22, 23, 24]])]"
      ]
     },
     "execution_count": 49,
     "metadata": {},
     "output_type": "execute_result"
    }
   ],
   "source": [
    "# contoh split array\n",
    "np.split(arrsplit,2) # 2 adalah jumlah array yang akan dibagi"
   ]
  },
  {
   "cell_type": "code",
   "execution_count": 50,
   "id": "b5d076b9",
   "metadata": {},
   "outputs": [
    {
     "data": {
      "text/plain": [
       "[array([[ 1,  2,  3,  4],\n",
       "        [13, 14, 15, 16]]),\n",
       " array([[ 5,  6,  7,  8],\n",
       "        [17, 18, 19, 20]]),\n",
       " array([[ 9, 10, 11, 12],\n",
       "        [21, 22, 23, 24]])]"
      ]
     },
     "execution_count": 50,
     "metadata": {},
     "output_type": "execute_result"
    }
   ],
   "source": [
    "# contoh hspli array\n",
    "np.hsplit(arrsplit,3) # 3 adalah jumlah array yang akan dibagi secara horizontal"
   ]
  },
  {
   "cell_type": "code",
   "execution_count": 53,
   "id": "cb595945",
   "metadata": {},
   "outputs": [
    {
     "data": {
      "text/plain": [
       "[array([[ 1,  2,  3,  4,  5,  6,  7,  8,  9, 10, 11, 12]]),\n",
       " array([[13, 14, 15, 16, 17, 18, 19, 20, 21, 22, 23, 24]])]"
      ]
     },
     "execution_count": 53,
     "metadata": {},
     "output_type": "execute_result"
    }
   ],
   "source": [
    "# contoh vsplit array\n",
    "np.vsplit(arrsplit,2) # 2 adalah jumlah array yang akan dibagi secara vertikal"
   ]
  },
  {
   "cell_type": "code",
   "execution_count": 54,
   "id": "3d742829",
   "metadata": {},
   "outputs": [],
   "source": [
    "# copy & view\n",
    "# copy adalah untuk membuat copy dari array yang kita buat\n",
    "# contoh copy\n",
    "array_copy = np.array([1,2,3,4,5])\n",
    "array_copy2 = array_copy.copy()"
   ]
  },
  {
   "cell_type": "code",
   "execution_count": 55,
   "id": "a9540776",
   "metadata": {},
   "outputs": [
    {
     "data": {
      "text/plain": [
       "array([1, 2, 3, 4, 5])"
      ]
     },
     "execution_count": 55,
     "metadata": {},
     "output_type": "execute_result"
    }
   ],
   "source": [
    "array_copy2"
   ]
  },
  {
   "cell_type": "code",
   "execution_count": 56,
   "id": "1de51098",
   "metadata": {},
   "outputs": [],
   "source": [
    "# contoh view\n",
    "# ketika kita membuat view dari array, maka array yang kita buat akan berubah jika array yang kita buat viewnya berubah\n",
    "array_view = np.array([1,2,3,4,5])\n",
    "array_view2 = array_view.view()"
   ]
  },
  {
   "cell_type": "code",
   "execution_count": 57,
   "id": "407a1e56",
   "metadata": {},
   "outputs": [
    {
     "data": {
      "text/plain": [
       "array([1, 2, 3, 4, 5])"
      ]
     },
     "execution_count": 57,
     "metadata": {},
     "output_type": "execute_result"
    }
   ],
   "source": [
    "array_view2"
   ]
  },
  {
   "cell_type": "code",
   "execution_count": 60,
   "id": "3d32d44c",
   "metadata": {},
   "outputs": [
    {
     "data": {
      "text/plain": [
       "array([ 2,  4,  6,  8, 10])"
      ]
     },
     "execution_count": 60,
     "metadata": {},
     "output_type": "execute_result"
    }
   ],
   "source": [
    "array_view2*2"
   ]
  },
  {
   "cell_type": "code",
   "execution_count": 61,
   "id": "d5ef9cfe",
   "metadata": {},
   "outputs": [
    {
     "data": {
      "text/plain": [
       "array([1, 2, 3, 4, 5])"
      ]
     },
     "execution_count": 61,
     "metadata": {},
     "output_type": "execute_result"
    }
   ],
   "source": [
    "array_view"
   ]
  },
  {
   "cell_type": "code",
   "execution_count": 62,
   "id": "2a173b4f",
   "metadata": {},
   "outputs": [],
   "source": [
    "# perbedaan copy dan view adalah ketika kita membuat copy dari array, maka array yang kita buat tidak akan berubah jika array yang kita buat copynya berubah sedangkan ketika kita membuat view dari array, maka array yang kita buat akan berubah jika array yang kita buat viewnya berubah"
   ]
  },
  {
   "cell_type": "code",
   "execution_count": 63,
   "id": "8203c4b2",
   "metadata": {},
   "outputs": [],
   "source": [
    "## basic array operation\n",
    "# basic array operation terdiri dari 4 yaitu:\n",
    "# 1. array aritmatika\n",
    "# 2. array perbandingan\n",
    "# 3. array logika\n",
    "# 4. array trigonometri"
   ]
  },
  {
   "cell_type": "code",
   "execution_count": 64,
   "id": "e37d3875",
   "metadata": {},
   "outputs": [
    {
     "data": {
      "text/plain": [
       "array([ 7,  9, 11, 13, 15])"
      ]
     },
     "execution_count": 64,
     "metadata": {},
     "output_type": "execute_result"
    }
   ],
   "source": [
    "# array aritmatika\n",
    "# array aritmatika terdiri dari 4 yaitu:\n",
    "# 1. penjumlahan\n",
    "# 2. pengurangan\n",
    "# 3. perkalian\n",
    "# 4. pembagian\n",
    "\n",
    "# contoh penjumlahan\n",
    "array1 = np.array([1,2,3,4,5])\n",
    "array2 = np.array([6,7,8,9,10])\n",
    "\n",
    "array1 + array2"
   ]
  },
  {
   "cell_type": "code",
   "execution_count": 65,
   "id": "4b212c4f",
   "metadata": {},
   "outputs": [
    {
     "data": {
      "text/plain": [
       "array([-5, -5, -5, -5, -5])"
      ]
     },
     "execution_count": 65,
     "metadata": {},
     "output_type": "execute_result"
    }
   ],
   "source": [
    "# contoh pengurangan\n",
    "array1 - array2"
   ]
  },
  {
   "cell_type": "code",
   "execution_count": 67,
   "id": "1bf917de",
   "metadata": {},
   "outputs": [
    {
     "data": {
      "text/plain": [
       "array([ 6, 14, 24, 36, 50])"
      ]
     },
     "execution_count": 67,
     "metadata": {},
     "output_type": "execute_result"
    }
   ],
   "source": [
    "# contoh perkalian\n",
    "array1 * array2\n"
   ]
  },
  {
   "cell_type": "code",
   "execution_count": 68,
   "id": "5222632c",
   "metadata": {},
   "outputs": [
    {
     "data": {
      "text/plain": [
       "array([0.16666667, 0.28571429, 0.375     , 0.44444444, 0.5       ])"
      ]
     },
     "execution_count": 68,
     "metadata": {},
     "output_type": "execute_result"
    }
   ],
   "source": [
    "# contoh pembagian\n",
    "array1 / array2"
   ]
  },
  {
   "cell_type": "code",
   "execution_count": 69,
   "id": "fcc5bfcc",
   "metadata": {},
   "outputs": [
    {
     "data": {
      "text/plain": [
       "array([False, False, False, False, False])"
      ]
     },
     "execution_count": 69,
     "metadata": {},
     "output_type": "execute_result"
    }
   ],
   "source": [
    "# array perbandingan\n",
    "# array perbandingan terdiri dari 6 yaitu:\n",
    "# 1. sama dengan\n",
    "# 2. tidak sama dengan\n",
    "# 3. lebih besar dari\n",
    "# 4. lebih kecil dari\n",
    "# 5. lebih besar dari sama dengan\n",
    "# 6. lebih kecil dari sama dengan\n",
    "\n",
    "# contoh sama dengan\n",
    "array1 == array2"
   ]
  },
  {
   "cell_type": "code",
   "execution_count": 70,
   "id": "abfb581e",
   "metadata": {},
   "outputs": [
    {
     "data": {
      "text/plain": [
       "array([ True,  True,  True,  True,  True])"
      ]
     },
     "execution_count": 70,
     "metadata": {},
     "output_type": "execute_result"
    }
   ],
   "source": [
    "# contoh tidak sama dengan\n",
    "array1 != array2"
   ]
  },
  {
   "cell_type": "code",
   "execution_count": 71,
   "id": "dd9d3bd1",
   "metadata": {},
   "outputs": [
    {
     "data": {
      "text/plain": [
       "array([False, False, False, False, False])"
      ]
     },
     "execution_count": 71,
     "metadata": {},
     "output_type": "execute_result"
    }
   ],
   "source": [
    "# contoh lebih besar dari\n",
    "array1 > array2"
   ]
  },
  {
   "cell_type": "code",
   "execution_count": 72,
   "id": "f3f9d318",
   "metadata": {},
   "outputs": [
    {
     "data": {
      "text/plain": [
       "array([ True,  True,  True,  True,  True])"
      ]
     },
     "execution_count": 72,
     "metadata": {},
     "output_type": "execute_result"
    }
   ],
   "source": [
    "# contoh lebih kecil dari\n",
    "array1 < array2"
   ]
  },
  {
   "cell_type": "code",
   "execution_count": 73,
   "id": "4dcfc712",
   "metadata": {},
   "outputs": [
    {
     "data": {
      "text/plain": [
       "array([False, False, False, False, False])"
      ]
     },
     "execution_count": 73,
     "metadata": {},
     "output_type": "execute_result"
    }
   ],
   "source": [
    "# contoh lebih besar dari sama dengan\n",
    "array1 >= array2"
   ]
  },
  {
   "cell_type": "code",
   "execution_count": 74,
   "id": "db008c63",
   "metadata": {},
   "outputs": [
    {
     "data": {
      "text/plain": [
       "array([ True,  True,  True,  True,  True])"
      ]
     },
     "execution_count": 74,
     "metadata": {},
     "output_type": "execute_result"
    }
   ],
   "source": [
    "# contoh lebih kecil dari sama dengan\n",
    "array1 <= array2"
   ]
  },
  {
   "cell_type": "code",
   "execution_count": 75,
   "id": "29b3a67c",
   "metadata": {},
   "outputs": [
    {
     "data": {
      "text/plain": [
       "array([0, 2, 0, 0, 0])"
      ]
     },
     "execution_count": 75,
     "metadata": {},
     "output_type": "execute_result"
    }
   ],
   "source": [
    "# array logika\n",
    "# array logika terdiri dari 3 yaitu:\n",
    "# 1. and\n",
    "# 2. or\n",
    "# 3. not\n",
    "\n",
    "# contoh and\n",
    "array1 & array2"
   ]
  },
  {
   "cell_type": "code",
   "execution_count": 76,
   "id": "793f34a2",
   "metadata": {},
   "outputs": [
    {
     "data": {
      "text/plain": [
       "array([ 7,  7, 11, 13, 15])"
      ]
     },
     "execution_count": 76,
     "metadata": {},
     "output_type": "execute_result"
    }
   ],
   "source": [
    "# contoh or\n",
    "array1 | array2"
   ]
  },
  {
   "cell_type": "code",
   "execution_count": 77,
   "id": "de8d1182",
   "metadata": {},
   "outputs": [
    {
     "data": {
      "text/plain": [
       "array([-2, -3, -4, -5, -6])"
      ]
     },
     "execution_count": 77,
     "metadata": {},
     "output_type": "execute_result"
    }
   ],
   "source": [
    "# contoh not\n",
    "# not adalah untuk membalikkan nilai dari array yang kita buat\n",
    "~array1 # hasilnya adalah array([-2, -3, -4, -5, -6]) yang dimana -2, -3, -4, -5, -6 adalah nilai dari array1 yang sudah di not"
   ]
  },
  {
   "cell_type": "code",
   "execution_count": 101,
   "id": "c8b0d68e",
   "metadata": {},
   "outputs": [
    {
     "data": {
      "text/plain": [
       "array([ 0.84147098,  0.90929743,  0.14112001, -0.7568025 , -0.95892427])"
      ]
     },
     "execution_count": 101,
     "metadata": {},
     "output_type": "execute_result"
    }
   ],
   "source": [
    "# array trigonometri\n",
    "# array trigonometri terdiri dari 6 yaitu:\n",
    "# 1. sin\n",
    "# 2. cos\n",
    "# 3. tan\n",
    "# 4. arcsin\n",
    "# 5. arccos\n",
    "# 6. arctan\n",
    "\n",
    "# contoh sin\n",
    "np.sin(array1)"
   ]
  },
  {
   "cell_type": "code",
   "execution_count": 98,
   "id": "2693cc2e",
   "metadata": {},
   "outputs": [
    {
     "data": {
      "text/plain": [
       "array([ 0.54030231, -0.41614684, -0.9899925 , -0.65364362,  0.28366219])"
      ]
     },
     "execution_count": 98,
     "metadata": {},
     "output_type": "execute_result"
    }
   ],
   "source": [
    "# contoh cos\n",
    "np.cos(array1)"
   ]
  },
  {
   "cell_type": "code",
   "execution_count": 99,
   "id": "114af98b",
   "metadata": {},
   "outputs": [
    {
     "data": {
      "text/plain": [
       "array([ 1.55740772, -2.18503986, -0.14254654,  1.15782128, -3.38051501])"
      ]
     },
     "execution_count": 99,
     "metadata": {},
     "output_type": "execute_result"
    }
   ],
   "source": [
    "# contoh tan\n",
    "np.tan(array1)"
   ]
  },
  {
   "cell_type": "code",
   "execution_count": 100,
   "id": "a167317f",
   "metadata": {},
   "outputs": [
    {
     "name": "stderr",
     "output_type": "stream",
     "text": [
      "C:\\Users\\hp\\AppData\\Local\\Temp\\ipykernel_17788\\1684762461.py:2: RuntimeWarning: invalid value encountered in arcsin\n",
      "  np.arcsin(arr_1)\n"
     ]
    },
    {
     "data": {
      "text/plain": [
       "array([1.57079633,        nan,        nan])"
      ]
     },
     "execution_count": 100,
     "metadata": {},
     "output_type": "execute_result"
    }
   ],
   "source": [
    "# contoh arcsin\n",
    "np.arcsin(array1)"
   ]
  },
  {
   "cell_type": "code",
   "execution_count": 82,
   "id": "4d84e09f",
   "metadata": {},
   "outputs": [
    {
     "name": "stderr",
     "output_type": "stream",
     "text": [
      "C:\\Users\\hp\\AppData\\Local\\Temp\\ipykernel_17788\\1278818080.py:2: RuntimeWarning: invalid value encountered in arccos\n",
      "  np.arccos(array1)\n"
     ]
    },
    {
     "data": {
      "text/plain": [
       "array([ 0., nan, nan, nan, nan])"
      ]
     },
     "execution_count": 82,
     "metadata": {},
     "output_type": "execute_result"
    }
   ],
   "source": [
    "# contoh arccos\n",
    "np.arccos(array1)"
   ]
  },
  {
   "cell_type": "code",
   "execution_count": 83,
   "id": "49b67dec",
   "metadata": {},
   "outputs": [
    {
     "data": {
      "text/plain": [
       "array([0.78539816, 1.10714872, 1.24904577, 1.32581766, 1.37340077])"
      ]
     },
     "execution_count": 83,
     "metadata": {},
     "output_type": "execute_result"
    }
   ],
   "source": [
    "# contoh arctan\n",
    "np.arctan(array1)"
   ]
  },
  {
   "cell_type": "code",
   "execution_count": 84,
   "id": "a636cdad",
   "metadata": {},
   "outputs": [],
   "source": [
    "# array statistik\n",
    "# array statistik terdiri dari 6 yaitu:\n",
    "# 1. min\n",
    "# 2. max\n",
    "# 3. sum\n",
    "# 4. mean\n",
    "# 5. median\n",
    "# 6. std"
   ]
  },
  {
   "cell_type": "code",
   "execution_count": 85,
   "id": "2a30ab42",
   "metadata": {},
   "outputs": [
    {
     "data": {
      "text/plain": [
       "1"
      ]
     },
     "execution_count": 85,
     "metadata": {},
     "output_type": "execute_result"
    }
   ],
   "source": [
    "# contoh min\n",
    "np.min(array1)"
   ]
  },
  {
   "cell_type": "code",
   "execution_count": 86,
   "id": "928ceec6",
   "metadata": {},
   "outputs": [
    {
     "data": {
      "text/plain": [
       "5"
      ]
     },
     "execution_count": 86,
     "metadata": {},
     "output_type": "execute_result"
    }
   ],
   "source": [
    "# contoh max\n",
    "np.max(array1)"
   ]
  },
  {
   "cell_type": "code",
   "execution_count": 87,
   "id": "8be6ddba",
   "metadata": {},
   "outputs": [
    {
     "data": {
      "text/plain": [
       "15"
      ]
     },
     "execution_count": 87,
     "metadata": {},
     "output_type": "execute_result"
    }
   ],
   "source": [
    "# contoh sum\n",
    "np.sum(array1)"
   ]
  },
  {
   "cell_type": "code",
   "execution_count": 88,
   "id": "07d54c55",
   "metadata": {},
   "outputs": [
    {
     "data": {
      "text/plain": [
       "3.0"
      ]
     },
     "execution_count": 88,
     "metadata": {},
     "output_type": "execute_result"
    }
   ],
   "source": [
    "# contoh mean\n",
    "np.mean(array1)"
   ]
  },
  {
   "cell_type": "code",
   "execution_count": 89,
   "id": "50e51c4b",
   "metadata": {},
   "outputs": [
    {
     "data": {
      "text/plain": [
       "3.0"
      ]
     },
     "execution_count": 89,
     "metadata": {},
     "output_type": "execute_result"
    }
   ],
   "source": [
    "# contoh median\n",
    "np.median(array1)"
   ]
  },
  {
   "cell_type": "code",
   "execution_count": 90,
   "id": "fc68cff0",
   "metadata": {},
   "outputs": [
    {
     "data": {
      "text/plain": [
       "1.4142135623730951"
      ]
     },
     "execution_count": 90,
     "metadata": {},
     "output_type": "execute_result"
    }
   ],
   "source": [
    "# contoh std\n",
    "np.std(array1)"
   ]
  },
  {
   "cell_type": "code",
   "execution_count": 102,
   "id": "76ff0c31",
   "metadata": {},
   "outputs": [],
   "source": [
    "# array linear algebra\n",
    "# array linear algebra terdiri dari 2 yaitu:\n",
    "# 1. dot\n",
    "# 2. cross\n",
    "\n",
    "arr_1 = np.array([1,2,3])\n",
    "arr_2 = np.array([4,5,6])"
   ]
  },
  {
   "cell_type": "code",
   "execution_count": 103,
   "id": "0301fa33",
   "metadata": {},
   "outputs": [
    {
     "data": {
      "text/plain": [
       "32"
      ]
     },
     "execution_count": 103,
     "metadata": {},
     "output_type": "execute_result"
    }
   ],
   "source": [
    "# contoh dot\n",
    "# dot adalah untuk mengalikan array secara matriks \n",
    "\n",
    "np.dot(arr_1,arr_2)"
   ]
  },
  {
   "cell_type": "code",
   "execution_count": 104,
   "id": "1133695d",
   "metadata": {},
   "outputs": [
    {
     "data": {
      "text/plain": [
       "array([-3,  6, -3])"
      ]
     },
     "execution_count": 104,
     "metadata": {},
     "output_type": "execute_result"
    }
   ],
   "source": [
    "# contoh cross\n",
    "# cross adalah untuk mengalikan array secara vektor\n",
    "\n",
    "np.cross(arr_1,arr_2)"
   ]
  },
  {
   "cell_type": "code",
   "execution_count": 107,
   "id": "de6a2882",
   "metadata": {},
   "outputs": [
    {
     "data": {
      "text/plain": [
       "array([[0.75637411, 0.30979943, 0.25425255],\n",
       "       [0.13513882, 0.4027445 , 0.1755626 ],\n",
       "       [0.18489541, 0.94397261, 0.69698873]])"
      ]
     },
     "execution_count": 107,
     "metadata": {},
     "output_type": "execute_result"
    }
   ],
   "source": [
    "# Matrix\n",
    "\n",
    "# np.zeros((3,3))\n",
    "# np.ones((3,3))\n",
    "\n",
    "np.random.random((3,3))\n",
    "\n"
   ]
  },
  {
   "cell_type": "code",
   "execution_count": null,
   "id": "171f95bb",
   "metadata": {},
   "outputs": [],
   "source": []
  }
 ],
 "metadata": {
  "kernelspec": {
   "display_name": "Python 3 (ipykernel)",
   "language": "python",
   "name": "python3"
  },
  "language_info": {
   "codemirror_mode": {
    "name": "ipython",
    "version": 3
   },
   "file_extension": ".py",
   "mimetype": "text/x-python",
   "name": "python",
   "nbconvert_exporter": "python",
   "pygments_lexer": "ipython3",
   "version": "3.8.8"
  }
 },
 "nbformat": 4,
 "nbformat_minor": 5
}
