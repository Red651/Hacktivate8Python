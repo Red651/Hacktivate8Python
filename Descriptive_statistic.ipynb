{
 "cells": [
  {
   "attachments": {},
   "cell_type": "markdown",
   "metadata": {},
   "source": [
    "Pertemuan 9 PYTN-KS12"
   ]
  },
  {
   "cell_type": "code",
   "execution_count": 13,
   "metadata": {},
   "outputs": [],
   "source": [
    "# import library yang dibutuhkan\n",
    "import pandas as pd\n",
    "import numpy as np\n",
    "import statistics\n",
    "import matplotlib.pyplot as plt\n",
    "import seaborn as sns\n",
    "import math\n",
    "import scipy.stats as stats"
   ]
  },
  {
   "cell_type": "code",
   "execution_count": 4,
   "metadata": {},
   "outputs": [
    {
     "data": {
      "text/plain": [
       "array([-2.93806121e-01,  1.40057272e-01,  2.87158018e-01,  1.75416799e+00,\n",
       "       -4.64527916e-01, -1.10510969e+00, -3.18158556e-02,  1.22867572e-01,\n",
       "       -3.09471063e+00,  6.38890952e-01, -2.47878692e-01, -4.89967792e-01,\n",
       "        1.46648663e+00, -6.39144636e-01, -5.35163003e-01, -9.98615056e-01,\n",
       "       -7.40853934e-01,  4.16700735e-01,  8.18762095e-01,  9.37410358e-01,\n",
       "        9.77806482e-01,  1.47302245e-01, -6.05233950e-01,  1.13768522e+00,\n",
       "       -1.33040272e-02, -8.18146157e-01,  1.29838762e+00,  1.34170055e+00,\n",
       "       -1.70549803e+00,  5.10295523e-01, -1.75731171e+00,  1.06322384e-01,\n",
       "       -8.09054517e-01, -1.95600141e+00, -6.86942361e-01, -1.41912086e-01,\n",
       "        8.67162584e-01, -4.05581205e-01, -4.70481326e-01, -1.41671852e+00,\n",
       "       -8.39052680e-01, -1.90974408e+00,  1.28431949e+00, -3.62137346e-01,\n",
       "       -9.28211683e-01,  8.70549523e-02, -5.29056150e-01, -1.02180552e+00,\n",
       "        2.71546724e+00,  4.53588860e-01, -3.26711699e-01, -5.36277749e-01,\n",
       "       -1.45978884e+00,  5.40108248e-01, -9.75026746e-01,  1.29549369e+00,\n",
       "       -2.91736282e-01, -1.12902723e+00, -1.58172197e+00,  1.75491657e+00,\n",
       "        1.90288620e+00,  1.82672275e+00,  6.79374154e-01, -3.10370061e-01,\n",
       "       -3.91253065e-01,  2.99973932e-01,  1.66249443e+00,  2.20637613e-01,\n",
       "       -1.74409373e+00,  9.61642618e-02,  2.21183478e-02,  2.29731848e-01,\n",
       "        3.25573732e-01, -7.52431423e-01,  1.08977357e+00,  1.46582896e+00,\n",
       "       -1.88129593e+00, -1.06169124e-01, -8.14135017e-01,  5.37896035e-01,\n",
       "        8.18861604e-01,  3.55608328e-02, -6.44558188e-01, -1.14896369e-01,\n",
       "       -1.02137068e-02, -9.91560039e-01,  8.20192120e-01,  5.43998178e-01,\n",
       "       -9.80765237e-02,  1.05382846e+00,  9.19724847e-01,  2.52493847e-01,\n",
       "        1.61739999e-02,  1.55340937e+00,  1.06294942e+00, -7.19312138e-01,\n",
       "       -7.68340981e-01, -6.29342110e-01,  1.62370054e+00,  1.41785424e+00,\n",
       "       -3.62048324e-01,  2.07544106e-01, -4.65348266e-01,  4.01713000e-01,\n",
       "       -1.99166112e+00, -1.76506389e+00, -7.31455328e-01,  6.74601239e-02,\n",
       "       -6.81947002e-01, -4.57816832e-01,  8.02411441e-01,  4.51582555e-01,\n",
       "       -1.21588158e+00,  1.15660153e+00, -2.08589390e+00, -1.33641043e+00,\n",
       "       -1.63373305e-02, -2.80082630e-02, -2.02659661e+00, -5.08274246e-01,\n",
       "       -1.72752391e+00,  9.37515118e-01,  3.87571464e-01,  3.54684760e-01,\n",
       "       -2.37517849e+00, -1.15650254e+00, -6.95593419e-01, -6.80488673e-01,\n",
       "       -1.46394815e-01,  2.78650582e-02, -6.15096210e-01,  3.49186067e-01,\n",
       "       -3.28852043e-01,  2.09478982e-01, -1.54580013e+00,  8.02296532e-01,\n",
       "       -7.91577636e-01,  1.70024240e+00, -2.79164618e-01, -3.59598319e-02,\n",
       "        3.86679780e-01, -4.42943935e-02,  3.96570428e-01,  2.75859280e-01,\n",
       "        8.81567726e-01, -1.12160780e+00,  7.78181516e-01, -2.33961758e+00,\n",
       "       -3.85043722e-01,  6.80180098e-01,  9.05812267e-02,  7.46692577e-01,\n",
       "        8.68607109e-01, -3.23481514e-01,  8.95206299e-01,  2.80121234e-01,\n",
       "        4.99939310e-01,  3.46454055e-01, -4.44305594e-02, -8.34847974e-01,\n",
       "       -2.23843585e-01, -3.71457108e-01,  9.63611374e-01,  1.14735227e+00,\n",
       "       -1.55594906e+00,  1.48988405e-01, -1.29411107e+00,  7.42317868e-01,\n",
       "        1.14897193e+00, -3.32361253e-01,  6.69712473e-02, -8.11710720e-01,\n",
       "        5.73881473e-01,  1.24248410e+00, -5.53757568e-01, -6.78119162e-01,\n",
       "       -8.38393924e-01,  4.55949090e-01, -3.00038713e+00,  4.18686091e-01,\n",
       "        3.04117272e+00, -1.57017019e+00, -3.17987772e-01,  1.52049980e-01,\n",
       "       -7.35732922e-02, -1.73917053e+00, -6.63132297e-02, -1.31070332e+00,\n",
       "       -2.27359457e+00,  6.18333645e-01,  1.11821701e+00, -7.85107908e-01,\n",
       "        2.59882761e-01, -1.60419620e+00, -1.28285609e-01,  1.61320845e+00,\n",
       "        5.51605192e-01, -5.17849772e-01, -9.31974176e-01, -5.78259700e-01,\n",
       "        1.40460247e+00, -7.03503409e-01, -2.24076219e+00,  4.39782734e-01,\n",
       "        6.70444320e-01,  8.69856058e-01, -2.38028414e-01,  4.87103781e-01,\n",
       "       -1.48587933e-02,  1.17156353e+00, -1.18001262e+00,  3.62149455e-01,\n",
       "        2.16800170e-01,  2.49273410e-01, -1.01796640e+00,  8.70721147e-01,\n",
       "       -1.66274824e+00, -1.78776655e+00,  2.40301139e-02, -1.21971693e+00,\n",
       "       -7.33340330e-01,  6.55646130e-01,  2.41084284e-01, -7.40609621e-01,\n",
       "        6.22558083e-01,  1.83154722e+00,  2.04403197e-01, -4.91769003e-01,\n",
       "       -5.66358315e-01, -1.76824383e-01, -6.06589224e-02, -9.20776423e-01,\n",
       "       -1.27141736e+00,  1.64424317e+00, -4.28631639e-01, -1.32175372e+00,\n",
       "       -3.02984489e-01,  4.74857658e-01, -1.79394600e+00,  1.45589262e+00,\n",
       "        1.70066126e+00,  3.86062507e-01, -5.89803361e-01,  1.55658832e+00,\n",
       "       -1.94164143e-01, -1.49879774e-01,  1.62844758e-01, -3.01717189e+00,\n",
       "        8.07736614e-02, -2.65242256e-01, -3.66411545e-01, -1.29706767e+00,\n",
       "       -4.92482204e-01, -1.00046811e+00, -2.47628058e-01, -4.32846446e-01,\n",
       "        1.08340157e+00, -6.39854936e-01,  2.49481093e+00, -1.03248897e+00,\n",
       "        4.38610380e-01, -1.37867132e+00, -1.00786278e+00,  1.19387654e+00,\n",
       "        5.57529310e-01, -1.48438693e-01,  7.18495433e-01, -1.87146892e+00,\n",
       "        6.54438272e-01, -1.98583810e+00,  6.94644858e-01, -4.66091794e-01,\n",
       "       -2.36623841e+00, -2.04237078e+00,  2.74015047e-01,  1.00255836e-01,\n",
       "        6.65638747e-02, -1.22537272e+00,  6.95275759e-01, -3.00589857e-01,\n",
       "       -6.04788176e-01, -1.85850921e+00,  8.41976628e-01, -6.99100395e-01,\n",
       "        2.22600383e+00,  7.58393652e-01, -5.49905495e-01, -5.98615500e-01,\n",
       "       -3.68728797e-01, -6.77466303e-03,  8.84586470e-01,  3.01485858e-01,\n",
       "        1.36018323e+00, -6.10398168e-01,  9.22607085e-01, -4.26542539e-01,\n",
       "       -6.55828736e-01, -5.67260191e-02,  5.71482004e-01,  1.14583577e+00,\n",
       "        1.89834525e+00,  3.38179178e-01, -1.57328776e+00,  3.89120455e-01,\n",
       "        2.35870100e+00, -5.07397917e-01, -5.60723050e-01,  3.96250478e-01,\n",
       "       -1.82578403e-01,  1.56658782e-01, -5.69648095e-01,  3.25641928e-01,\n",
       "        1.18685934e+00, -5.92473115e-01, -6.76230764e-01,  1.64460431e+00,\n",
       "       -2.20347187e+00,  3.27440388e-01, -8.92396676e-01,  1.39119015e+00,\n",
       "        2.77351583e+00, -1.74714092e-01, -1.00251512e+00,  2.04437015e-01,\n",
       "       -1.06206230e+00, -1.36507032e+00, -1.19417111e+00, -8.17213349e-01,\n",
       "       -9.17284792e-01,  3.77939129e-02,  1.26121947e+00, -3.35282576e-01,\n",
       "        4.92611223e-01, -5.70905081e-01, -1.46288059e+00,  1.34194374e+00,\n",
       "       -8.77531062e-01, -9.83905982e-01, -1.38985818e+00,  2.38999077e+00,\n",
       "        1.11495829e+00,  1.06785309e+00,  5.33983958e-01,  2.83987994e-01,\n",
       "       -2.53824697e-01, -9.98388919e-01, -1.03391336e+00,  4.10132130e-01,\n",
       "       -1.27845635e+00,  1.26713559e-01,  4.57785598e-01,  7.37189237e-01,\n",
       "       -9.06019811e-01,  1.52560930e-01,  3.77481125e-01,  7.76797174e-01,\n",
       "        6.94913929e-02, -4.99979920e-01,  3.22072686e-02,  7.89629311e-01,\n",
       "        2.30011917e+00,  8.18410442e-01, -6.22492094e-01,  7.75304455e-01,\n",
       "        2.03466786e-01, -1.31487731e+00,  6.44577793e-01,  2.89184723e-01,\n",
       "       -6.12431740e-01,  2.72879771e-01,  1.41394897e+00, -5.66980955e-01,\n",
       "       -7.10066346e-01, -8.62407196e-01,  1.08690722e+00, -1.44286825e+00,\n",
       "        6.34840390e-01,  1.00616443e+00, -1.01758929e+00,  3.54150702e-01,\n",
       "       -1.42208825e+00, -1.65389411e-01,  1.45806874e+00,  7.48911952e-01,\n",
       "       -8.30221631e-01,  3.85444602e-02, -7.43022182e-01, -1.83326417e+00,\n",
       "        5.32924626e-01,  8.48007317e-01,  6.51810286e-01, -1.33155325e+00,\n",
       "        2.38388586e-01, -1.19684313e+00,  1.04570764e+00,  3.98264487e-01,\n",
       "       -1.03938132e+00, -5.74249199e-01,  1.41702406e+00,  1.32047619e+00,\n",
       "        2.20389543e-01,  1.87094638e+00, -9.00258628e-01, -6.64920198e-01,\n",
       "        8.80709776e-01, -1.81621249e-01, -1.32542245e+00,  7.38336189e-01,\n",
       "        9.03281793e-01, -4.63372855e-01,  8.30917806e-01,  7.40852449e-01,\n",
       "        2.14599019e-01,  1.59119638e+00, -3.93657372e-01,  9.83208202e-01,\n",
       "       -1.93236235e-01,  1.07443847e-01, -1.66690837e+00, -1.37821542e+00,\n",
       "       -5.82850957e-01,  1.81695311e-01,  1.03829887e+00, -6.99518007e-01,\n",
       "       -1.77886977e+00,  9.71670025e-01, -7.60044301e-02,  1.01035943e+00,\n",
       "       -2.82537465e-02, -1.12653834e-01,  5.85144793e-01, -8.16725271e-01,\n",
       "       -1.47045195e+00,  6.86922181e-01, -2.19473386e-01, -1.69867158e-01,\n",
       "        8.84491595e-02, -1.24758196e-01, -1.34248671e+00,  2.31967234e-01,\n",
       "        1.05306221e+00, -1.13880000e+00, -6.15535275e-01,  1.49471314e+00,\n",
       "       -1.02422686e+00, -3.06832205e-01,  1.83147802e-01, -3.58888985e+00,\n",
       "       -2.75242433e+00,  6.47185396e-01, -2.11330346e-01,  1.60033065e-01,\n",
       "        4.08488219e-01, -3.93636810e-01, -1.91859591e+00,  2.20046746e+00,\n",
       "        1.63238804e-01, -8.04553201e-01, -8.99186147e-01, -1.32470201e-01,\n",
       "        9.73480987e-01, -2.38770620e-01, -1.96162428e+00,  4.70447195e-01,\n",
       "       -8.25830147e-01, -1.36073436e-01, -2.95176757e-01,  1.78581658e+00,\n",
       "        3.90089718e-02,  2.24802700e-01,  1.20518018e+00, -5.44718257e-01,\n",
       "        1.39363955e+00,  1.02807067e+00, -6.14785864e-01,  1.27146514e+00,\n",
       "        9.25013601e-01, -5.94840117e-01, -4.87179853e-01,  6.21614266e-01,\n",
       "        3.08698451e-01, -8.44150706e-01,  2.13839665e-02, -7.89806076e-01,\n",
       "        1.37434880e+00, -1.23259974e+00,  6.59266904e-01, -1.23783263e+00,\n",
       "        1.59565358e-01,  5.09244112e-01, -1.18589153e+00, -1.24406777e+00,\n",
       "        1.03368573e+00, -2.41264898e-01,  5.78767999e-01, -9.65660786e-01,\n",
       "       -3.37814449e+00, -1.77930564e-01, -1.06770713e-01, -4.96768774e-02,\n",
       "        5.36368880e-01,  9.42319234e-01, -9.73549708e-01, -1.45084364e-01,\n",
       "        1.11653320e+00,  8.91530740e-01,  3.86305580e-01,  5.97267302e-01,\n",
       "       -4.11659766e-01,  1.47221236e+00,  4.78325172e-01, -3.69836262e-01,\n",
       "       -1.28771965e-01,  3.54033052e-02,  2.33040956e+00,  1.64622082e+00,\n",
       "       -1.33325964e-02, -8.54141796e-01,  6.57812216e-01, -2.78477807e-01,\n",
       "        8.55995256e-01,  3.39497774e-01,  1.06057352e+00,  1.09684664e-01,\n",
       "        3.49698229e-01, -5.10230843e-01, -6.71540441e-02,  2.53869575e+00,\n",
       "        1.40327988e+00,  6.56168856e-01, -1.51959663e-01, -1.86471596e+00,\n",
       "        1.78762655e-01, -1.23342399e+00,  2.21157959e-02,  1.27202725e+00,\n",
       "        1.16073651e+00,  7.16265359e-01, -1.97411115e-01,  1.11131331e+00,\n",
       "        3.78557591e-01, -2.41851821e-01,  2.75421236e-01, -2.40479052e+00,\n",
       "        7.58974621e-01,  4.40482669e-01,  3.85064021e-01,  8.19264322e-01,\n",
       "       -1.04921225e+00, -3.92303117e-01, -1.13380444e+00, -1.43463914e+00,\n",
       "       -8.45950632e-01, -2.22322151e+00, -6.17922495e-01, -1.35984982e-01,\n",
       "        4.19223536e-01,  2.80134072e-01, -6.89030477e-01, -1.16558570e+00,\n",
       "        2.97356376e-01,  1.73701563e+00, -2.46615066e-01,  1.31408864e+00,\n",
       "        1.37245919e-01,  1.84097375e+00,  6.36420216e-01,  4.88523013e-01,\n",
       "       -6.04502839e-01, -9.78476329e-01,  1.37730579e-01, -1.12818060e+00,\n",
       "       -6.94400717e-01,  1.13953896e+00, -2.22108916e+00, -1.17417077e+00,\n",
       "        1.78448405e-01, -5.57387026e-01,  8.51071157e-01, -4.32856926e-01,\n",
       "       -1.54021452e-01, -9.87912561e-01,  8.75641347e-01,  2.11250419e+00,\n",
       "       -5.88054923e-01, -1.14289056e+00, -4.73178015e-01,  4.50556196e-01,\n",
       "        2.94184987e-01, -1.90905786e-01, -1.49456054e+00,  5.43685637e-01,\n",
       "       -1.14345605e+00, -1.96716266e-01,  1.77109401e+00, -5.60937608e-01,\n",
       "       -1.21866965e+00,  5.23147539e-01, -1.64138801e-01,  1.51907350e-01,\n",
       "       -8.33589827e-01, -7.99154863e-01, -2.10129635e+00,  1.00927639e+00,\n",
       "        8.47124090e-01,  1.45297296e+00, -2.36819868e-01,  2.80771032e-01,\n",
       "        6.32788294e-01, -7.23279291e-01, -7.03028021e-02,  3.34979447e-02,\n",
       "       -2.24828402e+00,  1.46879410e+00,  1.79927093e+00, -8.01708438e-01,\n",
       "       -6.51393887e-01,  1.88747921e+00, -1.76115185e+00,  1.41119597e-01,\n",
       "       -5.38536665e-01,  1.27858815e+00,  1.27884251e+00, -1.56072840e+00,\n",
       "        1.53032158e+00, -1.54642353e+00, -1.86481720e+00, -3.88485886e-02,\n",
       "        5.81612996e-01, -1.78136348e+00,  2.41691546e+00, -2.00182146e+00,\n",
       "        1.67409074e+00, -1.50260129e+00,  2.51774446e-01,  7.65120909e-01,\n",
       "        1.74216788e-01, -1.91828939e-01,  3.43456751e-01, -3.36970801e-01,\n",
       "        5.22000471e-01, -5.95465290e-01, -1.08896449e+00, -1.77761907e+00,\n",
       "        9.01601087e-01,  3.45127234e-01,  5.79215617e-01, -4.95550581e-01,\n",
       "        1.03176564e+00, -1.17648084e+00, -9.02328387e-01,  3.86554354e-01,\n",
       "        1.02802488e+00,  1.25096930e+00, -1.27128092e+00, -7.15103884e-01,\n",
       "        1.56999592e+00,  1.36712839e-01,  5.24364980e-01, -5.05583970e-02,\n",
       "        4.94334376e-01,  4.96147442e-01,  1.04526141e+00, -9.66450548e-01,\n",
       "       -1.22492984e+00, -1.11789932e+00, -2.13977609e+00,  1.67361845e-01,\n",
       "        1.83073632e+00, -7.05672234e-02,  1.90723783e+00, -9.92951953e-01,\n",
       "       -2.79338319e+00, -5.86128022e-01, -4.29417584e+00,  1.81805274e+00,\n",
       "        2.67958213e-02,  3.45402937e-01,  8.09939963e-01, -1.26588901e+00,\n",
       "        5.08173345e-01, -3.43854419e-01,  3.47919254e-01, -2.93461815e-01,\n",
       "        1.16921722e+00,  9.76710265e-01,  8.25416272e-01,  1.77317577e+00,\n",
       "       -5.23380678e-01, -1.25733132e+00, -1.83623631e+00, -5.97352288e-01,\n",
       "       -1.78841267e-01,  1.65698509e-01,  2.16275477e+00,  5.97807911e-01,\n",
       "       -6.49616989e-01, -7.62915132e-01,  3.26795387e-01, -1.23779549e+00,\n",
       "        7.26783104e-01,  8.63540631e-01, -5.50541074e-01,  8.04043905e-01,\n",
       "        8.67671498e-01,  9.01282847e-01, -5.41150610e-01,  1.68743903e-01,\n",
       "        3.58205958e-01, -2.14736667e-01,  2.77405348e-01, -6.51493390e-01,\n",
       "       -1.67278946e-01, -1.10427397e+00, -8.54491440e-01,  1.09517534e+00,\n",
       "        9.09911885e-01,  2.59078785e+00, -6.75082830e-02,  1.18199501e+00,\n",
       "       -1.17432645e+00, -6.78187988e-02, -1.50274320e+00, -7.52033758e-01,\n",
       "       -9.87267870e-01,  7.81013650e-01,  1.03172585e+00, -6.85585050e-01,\n",
       "        6.58594242e-01,  1.53518480e+00, -2.15279812e+00,  1.25038237e+00,\n",
       "       -1.16843929e+00,  4.92268012e-01, -1.27385729e+00,  8.78223415e-01,\n",
       "        1.32478865e+00,  2.81332526e+00, -1.23572550e+00,  1.83355471e+00,\n",
       "        1.74906607e+00, -1.64584061e+00,  1.96176121e+00,  5.09480002e-01,\n",
       "        9.15337065e-01, -3.49101566e-01, -9.85564624e-02,  2.05300432e+00,\n",
       "        1.20130709e+00,  2.86035826e-01, -8.33154247e-01, -1.21306385e+00,\n",
       "       -6.39415217e-01,  4.34357873e-01,  1.35989059e-01,  2.48161259e+00,\n",
       "       -3.76493592e-01, -4.82471083e-01, -9.05494442e-02, -4.67643185e-01,\n",
       "        6.94164028e-01,  1.11698287e+00, -1.10938812e+00, -2.03694322e+00,\n",
       "       -1.39821291e+00, -2.06867060e+00,  5.60920319e-01,  1.45816343e-01,\n",
       "        4.60661725e-01, -4.76471924e-01,  6.79728017e-01, -8.72405199e-01,\n",
       "       -1.24563067e-02,  8.23147503e-01,  3.06116449e-01, -1.33662736e+00,\n",
       "        7.08009601e-01,  2.12613200e-01,  1.00572124e+00, -1.36739996e+00,\n",
       "        1.68956474e-02,  2.31004106e+00,  1.16891093e+00,  4.41962386e-01,\n",
       "       -3.68118868e-01, -3.12244668e-01,  5.65278581e-01,  4.64165915e-01,\n",
       "        1.46555619e-01, -1.22372310e+00, -1.29922394e+00, -1.50707830e+00,\n",
       "       -1.06824588e+00, -1.08979321e-01, -5.32670732e-01, -1.34913072e+00,\n",
       "       -2.58557929e-01,  3.00662550e-01,  2.08629494e-01, -2.11634699e-01,\n",
       "        4.84274062e-01,  3.48995362e-01, -1.19494995e+00,  7.93406108e-01,\n",
       "       -5.32346750e-01, -5.52811443e-01, -6.61314028e-01,  6.60969432e-02,\n",
       "        5.44770924e-01,  2.51214234e-01, -1.51326611e+00,  2.77286951e-01,\n",
       "        1.02076630e+00, -5.56218868e-01,  3.45608813e-01,  1.98617683e+00,\n",
       "        1.01237197e+00,  7.11873488e-01, -8.29864910e-01, -7.68535632e-03,\n",
       "        4.68592001e-01,  9.60803806e-01,  2.64816326e-01, -5.73004061e-01,\n",
       "        1.24394888e-02,  5.93411274e-01,  2.21514443e-01,  1.55675369e+00,\n",
       "       -4.21897296e-02, -2.60794077e-01,  1.03385806e+00, -7.92323382e-01,\n",
       "       -1.04367355e+00,  1.24107476e+00,  1.55098751e+00,  1.97762057e+00,\n",
       "       -6.45748023e-01, -5.80936441e-01,  5.16503711e-01, -1.76907728e-01,\n",
       "        1.29555424e+00,  5.82917302e-01, -1.68035725e-01,  2.49102440e-01,\n",
       "       -2.11432771e-01, -1.02059392e+00,  8.39784650e-01, -1.06339733e+00,\n",
       "        9.00687375e-02, -2.18459056e+00, -4.93054775e-01,  1.03805391e-01,\n",
       "       -1.30045392e+00, -6.04741402e-01, -8.73937894e-01,  4.65411957e-01,\n",
       "        6.61871908e-02,  8.34806155e-02,  1.11395211e+00,  1.29348327e+00,\n",
       "       -2.84313965e-01,  5.49431262e-02, -8.92422262e-01,  3.95123165e-01,\n",
       "       -1.39631365e+00,  7.35432143e-01,  1.68103439e+00, -6.47776351e-01,\n",
       "       -5.65973151e-01,  7.05696079e-01, -9.97458095e-01,  5.69641033e-02,\n",
       "       -5.39249641e-01, -9.88089810e-01, -2.13735749e-01,  1.00325655e+00,\n",
       "        8.30020934e-01,  1.00261038e+00, -1.13744298e-01,  7.09771125e-01,\n",
       "        2.62855113e-01,  3.52388482e-03, -1.78465984e+00,  1.68990106e-02,\n",
       "        2.70412334e-01, -1.37554856e+00, -2.63512677e-01,  7.33457554e-01,\n",
       "       -7.50053664e-01,  3.36093829e-01,  3.14829068e-01, -2.99358625e-01,\n",
       "        4.60712131e-02, -2.54040298e-01,  1.06562810e-01, -5.60919707e-01,\n",
       "       -6.40028480e-01, -2.53428388e-01,  2.90757923e-01, -6.83259232e-02,\n",
       "       -8.46630388e-01,  1.81032289e+00,  5.55156286e-01,  5.16860583e-01,\n",
       "       -4.38431337e-01, -8.09147238e-01, -5.54377338e-01, -1.50511997e+00,\n",
       "       -4.06064925e-01, -7.07331038e-01,  5.81165350e-01, -1.14118053e+00,\n",
       "        1.55078004e+00,  1.04095416e+00,  7.69289626e-01,  1.52843020e-01,\n",
       "        5.26780773e-01, -6.13337400e-02,  1.44816278e+00, -2.02964679e+00,\n",
       "       -1.05489586e+00,  7.55778055e-01, -9.41726453e-01,  1.76314151e+00,\n",
       "       -5.17650442e-01,  4.22568730e-03, -6.10135870e-01, -5.20619860e-01,\n",
       "       -2.73354753e-01,  2.12884125e+00, -7.03206798e-01,  1.06467778e+00,\n",
       "        2.63416330e-01,  1.00196847e+00, -4.39831474e-01,  1.38186962e+00,\n",
       "        1.75399613e+00,  1.79454857e+00,  5.52750867e-01, -4.24262168e-01,\n",
       "        1.89308908e+00,  3.86624676e-01, -2.31924781e-01, -1.48682216e-01,\n",
       "        3.66544176e-01,  2.50353870e+00, -5.12202421e-01, -1.92728663e-01,\n",
       "        1.37341425e+00,  1.55010719e+00,  1.08588940e+00,  1.24008033e+00,\n",
       "       -1.99922412e+00, -7.15917202e-01, -1.10429598e+00,  6.10395151e-01,\n",
       "       -2.45379066e-01, -5.22627350e-01,  3.07911967e-01, -1.77620652e+00,\n",
       "        1.03492407e-01, -4.44248120e-01,  1.10561805e+00,  4.67853460e-01,\n",
       "        1.22472875e+00,  4.96308030e-01,  1.58642368e+00, -4.68426609e-01,\n",
       "        5.44760834e-02,  2.78054453e-01, -7.28540553e-01,  1.27838980e+00,\n",
       "        8.08018714e-03,  3.64726974e-01,  7.15384242e-01,  1.23685057e+00,\n",
       "       -9.85459493e-01, -2.67956632e+00,  7.18599142e-01, -6.27494768e-01,\n",
       "       -1.15305530e-01, -6.99754144e-01,  2.55733450e+00,  8.09947603e-01,\n",
       "        7.47826549e-01, -1.82407668e+00, -2.74811272e+00, -7.55696788e-01,\n",
       "        1.94645470e+00,  8.67687646e-01, -4.06750517e-01,  6.39213165e-02,\n",
       "        8.92014860e-01,  5.54380082e-01, -1.01665108e+00,  5.32934339e-01,\n",
       "        7.45086176e-01,  5.24962691e-01,  5.89161367e-01, -1.37643516e+00])"
      ]
     },
     "execution_count": 4,
     "metadata": {},
     "output_type": "execute_result"
    }
   ],
   "source": [
    "x = np.random.normal(0, 1, 1000)\n",
    "x"
   ]
  },
  {
   "attachments": {},
   "cell_type": "markdown",
   "metadata": {},
   "source": [
    "perbedaan antara series dan dataframe adalah series hanya memiliki satu kolom, sedangkan dataframe memiliki lebih dari satu kolom"
   ]
  },
  {
   "cell_type": "code",
   "execution_count": 8,
   "metadata": {},
   "outputs": [
    {
     "data": {
      "text/html": [
       "<div>\n",
       "<style scoped>\n",
       "    .dataframe tbody tr th:only-of-type {\n",
       "        vertical-align: middle;\n",
       "    }\n",
       "\n",
       "    .dataframe tbody tr th {\n",
       "        vertical-align: top;\n",
       "    }\n",
       "\n",
       "    .dataframe thead th {\n",
       "        text-align: right;\n",
       "    }\n",
       "</style>\n",
       "<table border=\"1\" class=\"dataframe\">\n",
       "  <thead>\n",
       "    <tr style=\"text-align: right;\">\n",
       "      <th></th>\n",
       "      <th>x</th>\n",
       "    </tr>\n",
       "  </thead>\n",
       "  <tbody>\n",
       "    <tr>\n",
       "      <th>0</th>\n",
       "      <td>-0.293806</td>\n",
       "    </tr>\n",
       "    <tr>\n",
       "      <th>1</th>\n",
       "      <td>0.140057</td>\n",
       "    </tr>\n",
       "    <tr>\n",
       "      <th>2</th>\n",
       "      <td>0.287158</td>\n",
       "    </tr>\n",
       "    <tr>\n",
       "      <th>3</th>\n",
       "      <td>1.754168</td>\n",
       "    </tr>\n",
       "    <tr>\n",
       "      <th>4</th>\n",
       "      <td>-0.464528</td>\n",
       "    </tr>\n",
       "    <tr>\n",
       "      <th>...</th>\n",
       "      <td>...</td>\n",
       "    </tr>\n",
       "    <tr>\n",
       "      <th>995</th>\n",
       "      <td>0.532934</td>\n",
       "    </tr>\n",
       "    <tr>\n",
       "      <th>996</th>\n",
       "      <td>0.745086</td>\n",
       "    </tr>\n",
       "    <tr>\n",
       "      <th>997</th>\n",
       "      <td>0.524963</td>\n",
       "    </tr>\n",
       "    <tr>\n",
       "      <th>998</th>\n",
       "      <td>0.589161</td>\n",
       "    </tr>\n",
       "    <tr>\n",
       "      <th>999</th>\n",
       "      <td>-1.376435</td>\n",
       "    </tr>\n",
       "  </tbody>\n",
       "</table>\n",
       "<p>1000 rows × 1 columns</p>\n",
       "</div>"
      ],
      "text/plain": [
       "            x\n",
       "0   -0.293806\n",
       "1    0.140057\n",
       "2    0.287158\n",
       "3    1.754168\n",
       "4   -0.464528\n",
       "..        ...\n",
       "995  0.532934\n",
       "996  0.745086\n",
       "997  0.524963\n",
       "998  0.589161\n",
       "999 -1.376435\n",
       "\n",
       "[1000 rows x 1 columns]"
      ]
     },
     "execution_count": 8,
     "metadata": {},
     "output_type": "execute_result"
    }
   ],
   "source": [
    "df = pd.DataFrame(x, columns=['x'])\n",
    "df"
   ]
  },
  {
   "cell_type": "code",
   "execution_count": 15,
   "metadata": {},
   "outputs": [
    {
     "data": {
      "text/html": [
       "<div>\n",
       "<style scoped>\n",
       "    .dataframe tbody tr th:only-of-type {\n",
       "        vertical-align: middle;\n",
       "    }\n",
       "\n",
       "    .dataframe tbody tr th {\n",
       "        vertical-align: top;\n",
       "    }\n",
       "\n",
       "    .dataframe thead th {\n",
       "        text-align: right;\n",
       "    }\n",
       "</style>\n",
       "<table border=\"1\" class=\"dataframe\">\n",
       "  <thead>\n",
       "    <tr style=\"text-align: right;\">\n",
       "      <th></th>\n",
       "      <th>x</th>\n",
       "    </tr>\n",
       "  </thead>\n",
       "  <tbody>\n",
       "    <tr>\n",
       "      <th>count</th>\n",
       "      <td>1000.000000</td>\n",
       "    </tr>\n",
       "    <tr>\n",
       "      <th>mean</th>\n",
       "      <td>-0.014230</td>\n",
       "    </tr>\n",
       "    <tr>\n",
       "      <th>std</th>\n",
       "      <td>1.045316</td>\n",
       "    </tr>\n",
       "    <tr>\n",
       "      <th>min</th>\n",
       "      <td>-4.294176</td>\n",
       "    </tr>\n",
       "    <tr>\n",
       "      <th>25%</th>\n",
       "      <td>-0.690373</td>\n",
       "    </tr>\n",
       "    <tr>\n",
       "      <th>50%</th>\n",
       "      <td>0.019141</td>\n",
       "    </tr>\n",
       "    <tr>\n",
       "      <th>75%</th>\n",
       "      <td>0.694803</td>\n",
       "    </tr>\n",
       "    <tr>\n",
       "      <th>max</th>\n",
       "      <td>3.041173</td>\n",
       "    </tr>\n",
       "  </tbody>\n",
       "</table>\n",
       "</div>"
      ],
      "text/plain": [
       "                 x\n",
       "count  1000.000000\n",
       "mean     -0.014230\n",
       "std       1.045316\n",
       "min      -4.294176\n",
       "25%      -0.690373\n",
       "50%       0.019141\n",
       "75%       0.694803\n",
       "max       3.041173"
      ]
     },
     "execution_count": 15,
     "metadata": {},
     "output_type": "execute_result"
    }
   ],
   "source": [
    "df.describe()"
   ]
  },
  {
   "attachments": {},
   "cell_type": "markdown",
   "metadata": {},
   "source": [
    "## mode"
   ]
  },
  {
   "cell_type": "code",
   "execution_count": 11,
   "metadata": {},
   "outputs": [
    {
     "data": {
      "text/plain": [
       "[1, 2, 3, 4, 5, 6, 7, 8, 9, 10, 10]"
      ]
     },
     "execution_count": 11,
     "metadata": {},
     "output_type": "execute_result"
    }
   ],
   "source": [
    "x_mode = [1, 2, 3, 4, 5, 6, 7, 8, 9, 10, 10,]\n",
    "x_mode"
   ]
  },
  {
   "cell_type": "code",
   "execution_count": 12,
   "metadata": {},
   "outputs": [
    {
     "data": {
      "text/plain": [
       "10"
      ]
     },
     "execution_count": 12,
     "metadata": {},
     "output_type": "execute_result"
    }
   ],
   "source": [
    "statistics.mode(x_mode) # mode adalah nilai yang paling sering muncul"
   ]
  },
  {
   "cell_type": "code",
   "execution_count": 14,
   "metadata": {},
   "outputs": [
    {
     "name": "stderr",
     "output_type": "stream",
     "text": [
      "C:\\Users\\hp\\AppData\\Local\\Temp\\ipykernel_17472\\3158145352.py:2: FutureWarning: Unlike other reduction functions (e.g. `skew`, `kurtosis`), the default behavior of `mode` typically preserves the axis it acts along. In SciPy 1.11.0, this behavior will change: the default value of `keepdims` will become False, the `axis` over which the statistic is taken will be eliminated, and the value None will no longer be accepted. Set `keepdims` to True or False to avoid this warning.\n",
      "  stats.mode(x_mode)\n"
     ]
    },
    {
     "data": {
      "text/plain": [
       "ModeResult(mode=array([10]), count=array([2]))"
      ]
     },
     "execution_count": 14,
     "metadata": {},
     "output_type": "execute_result"
    }
   ],
   "source": [
    "# menghitung nilai mode menggunakan library scipy\n",
    "stats.mode(x_mode)"
   ]
  },
  {
   "cell_type": "code",
   "execution_count": 16,
   "metadata": {},
   "outputs": [],
   "source": [
    "# menghitung nilai mode menggunakan library pandas\n",
    "X = pd.Series(x_mode)"
   ]
  },
  {
   "cell_type": "code",
   "execution_count": 17,
   "metadata": {},
   "outputs": [
    {
     "data": {
      "text/plain": [
       "0    10\n",
       "dtype: int64"
      ]
     },
     "execution_count": 17,
     "metadata": {},
     "output_type": "execute_result"
    }
   ],
   "source": [
    "X.mode()"
   ]
  },
  {
   "cell_type": "code",
   "execution_count": 24,
   "metadata": {},
   "outputs": [
    {
     "data": {
      "text/plain": [
       "7.3353485611977245"
      ]
     },
     "execution_count": 24,
     "metadata": {},
     "output_type": "execute_result"
    }
   ],
   "source": [
    "np.ptp(x) # ptp = peak to peak\n",
    "# ptp untuk menghitung selisih nilai terbesar dan terkecil"
   ]
  },
  {
   "cell_type": "code",
   "execution_count": 20,
   "metadata": {},
   "outputs": [
    {
     "name": "stdout",
     "output_type": "stream",
     "text": [
      "IQR =  1.3851756203355543\n"
     ]
    }
   ],
   "source": [
    "# menghitung nilai quantile\n",
    "q1 = np.quantile(x, 0.25) # Q1 = 25% dari data\n",
    "q3 = np.quantile(x, 0.75) # Q3 = 75% dari data\n",
    "print ('IQR = ', q3-q1) # IQR = Interquartile Range adalah jarak antara Q1 dan Q3 "
   ]
  },
  {
   "cell_type": "code",
   "execution_count": 22,
   "metadata": {},
   "outputs": [
    {
     "data": {
      "text/plain": [
       "0.6966833122646124"
      ]
     },
     "execution_count": 22,
     "metadata": {},
     "output_type": "execute_result"
    }
   ],
   "source": [
    "# menghilangkan fungsi absolut dari nilai IQR\n",
    "mad = np.median(np.abs(x - np.median(x)))\n",
    "mad"
   ]
  },
  {
   "cell_type": "code",
   "execution_count": 25,
   "metadata": {},
   "outputs": [
    {
     "data": {
      "text/plain": [
       "1.092685540329634"
      ]
     },
     "execution_count": 25,
     "metadata": {},
     "output_type": "execute_result"
    }
   ],
   "source": [
    "pd.Series(x).var() # menghitung nilai variansi\n",
    "# fungsi dari variansi adalah untuk mengetahui seberapa jauh data tersebar"
   ]
  },
  {
   "cell_type": "code",
   "execution_count": 26,
   "metadata": {},
   "outputs": [
    {
     "data": {
      "text/plain": [
       "1.0447932114965641"
      ]
     },
     "execution_count": 26,
     "metadata": {},
     "output_type": "execute_result"
    }
   ],
   "source": [
    "x.std() # menghitung nilai standar deviasi\n",
    "# standar deviasi adalah akar dari variansi"
   ]
  },
  {
   "cell_type": "code",
   "execution_count": 28,
   "metadata": {},
   "outputs": [
    {
     "data": {
      "text/plain": [
       "1.0447932114965641"
      ]
     },
     "execution_count": 28,
     "metadata": {},
     "output_type": "execute_result"
    }
   ],
   "source": [
    "x.var()**0.5\n",
    "#hasilnya sama dengan x.std()"
   ]
  },
  {
   "cell_type": "code",
   "execution_count": null,
   "metadata": {},
   "outputs": [],
   "source": [
    "x.var(ddof=1) # ddof = delta degree of freedom\n",
    "# ddof = 1 untuk menghitung nilai populasi sedangkan ddof = 0 untuk menghitung nilai sampel"
   ]
  },
  {
   "attachments": {},
   "cell_type": "markdown",
   "metadata": {},
   "source": [
    "## Skewness\n",
    "\n",
    "skewness adalah nilai yang menunjukkan seberapa banyak data tersebar ke kanan atau ke kiri\n",
    "jika skewness bernilai positif maka data tersebar ke kanan sedangkan jika bernilai negatif maka data tersebar ke kiri <br>\n",
    "jika skewness bernilai 0 maka data tersebar merata atau simetris\n",
    "<img src='img\\Skewness.png'>"
   ]
  },
  {
   "cell_type": "code",
   "execution_count": 30,
   "metadata": {},
   "outputs": [
    {
     "data": {
      "text/plain": [
       "-0.1391653995590034"
      ]
     },
     "execution_count": 30,
     "metadata": {},
     "output_type": "execute_result"
    }
   ],
   "source": [
    "X1 = stats.skew(x) # menghitung nilai skewness\n",
    "X1"
   ]
  },
  {
   "cell_type": "code",
   "execution_count": 31,
   "metadata": {},
   "outputs": [
    {
     "name": "stderr",
     "output_type": "stream",
     "text": [
      "c:\\Users\\hp\\anaconda3\\lib\\site-packages\\seaborn\\distributions.py:2557: FutureWarning: `distplot` is a deprecated function and will be removed in a future version. Please adapt your code to use either `displot` (a figure-level function with similar flexibility) or `histplot` (an axes-level function for histograms).\n",
      "  warnings.warn(msg, FutureWarning)\n"
     ]
    },
    {
     "data": {
      "text/plain": [
       "<Axes: ylabel='Density'>"
      ]
     },
     "execution_count": 31,
     "metadata": {},
     "output_type": "execute_result"
    },
    {
     "data": {
      "image/png": "[encoded data removed]",
      "text/plain": [
       "<Figure size 640x480 with 1 Axes>"
      ]
     },
     "metadata": {},
     "output_type": "display_data"
    }
   ],
   "source": [
    "sns.distplot(x) # menggambar distribusi data"
   ]
  },
  {
   "cell_type": "code",
   "execution_count": 34,
   "metadata": {},
   "outputs": [
    {
     "name": "stderr",
     "output_type": "stream",
     "text": [
      "c:\\Users\\hp\\anaconda3\\lib\\site-packages\\seaborn\\distributions.py:2557: FutureWarning: `distplot` is a deprecated function and will be removed in a future version. Please adapt your code to use either `displot` (a figure-level function with similar flexibility) or `histplot` (an axes-level function for histograms).\n",
      "  warnings.warn(msg, FutureWarning)\n"
     ]
    },
    {
     "data": {
      "text/plain": [
       "<Axes: ylabel='Density'>"
      ]
     },
     "execution_count": 34,
     "metadata": {},
     "output_type": "execute_result"
    },
    {
     "data": {
      "image/png": "[encoded data removed]",
      "text/plain": [
       "<Figure size 640x480 with 1 Axes>"
      ]
     },
     "metadata": {},
     "output_type": "display_data"
    }
   ],
   "source": [
    "X2 = stats.skewnorm.rvs(10, size=1000) # menggambar distribusi data skewness\n",
    "sns.distplot(X2)"
   ]
  },
  {
   "attachments": {},
   "cell_type": "markdown",
   "metadata": {},
   "source": [
    "## Kurtosis"
   ]
  },
  {
   "attachments": {},
   "cell_type": "markdown",
   "metadata": {},
   "source": [
    "<img src = 'https://av-eks-blogoptimized.s3.amazonaws.com/57983kurt1.png'><br>\n",
    "<p>kurtosis adalah ukuran untuk mengetahui seberapa tajam atau lebar puncak distribusi data</p>\n",
    "<p>ada beberapa jenis kurtosis yaitu: </p>\n",
    "<ol>\n",
    "    <li>mesokurtik jika nilai kurtosis = 0</li>\n",
    "    <li>leptokurtik jika nilai kurtosis > 0</li>\n",
    "    <li>platikurtik jika nilai kurtosis < 0</li>\n",
    "    <li>jika nilai kurtosis = 3 maka distribusi data adalah distribusi normal</li>\n",
    "</ol>"
   ]
  },
  {
   "attachments": {},
   "cell_type": "markdown",
   "metadata": {},
   "source": [
    "## korelasi\n",
    "\n",
    "<img src = 'https://tyangluhtu.files.wordpress.com/2013/04/korelasi1a.jpg' style='text-align: justify'><br>"
   ]
  },
  {
   "cell_type": "code",
   "execution_count": null,
   "metadata": {},
   "outputs": [],
   "source": [
    "# korelasi adalah hubungan antara dua variabel atau lebih\n"
   ]
  }
 ],
 "metadata": {
  "kernelspec": {
   "display_name": "base",
   "language": "python",
   "name": "python3"
  },
  "language_info": {
   "codemirror_mode": {
    "name": "ipython",
    "version": 3
   },
   "file_extension": ".py",
   "mimetype": "text/x-python",
   "name": "python",
   "nbconvert_exporter": "python",
   "pygments_lexer": "ipython3",
   "version": "3.8.8"
  },
  "orig_nbformat": 4
 },
 "nbformat": 4,
 "nbformat_minor": 2
}
