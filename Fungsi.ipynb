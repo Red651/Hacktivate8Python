{
 "cells": [
  {
   "cell_type": "markdown",
   "id": "373d415c-d263-4396-b962-12779174ba79",
   "metadata": {},
   "source": [
    "# membuat Fungsi "
   ]
  },
  {
   "cell_type": "markdown",
   "id": "fa980abc-5adf-4c6a-8674-b55252b9707e",
   "metadata": {},
   "source": [
    "$$ value = x^2 + 2x + 3 $$"
   ]
  },
  {
   "cell_type": "code",
   "execution_count": 1,
   "id": "293b6a58-ce20-43db-b5ce-19e7a7b79108",
   "metadata": {},
   "outputs": [],
   "source": [
    "def f(x):\n",
    "    value = x**2 + (2*x) + 3\n",
    "    return value"
   ]
  },
  {
   "cell_type": "code",
   "execution_count": 2,
   "id": "9b610893-fb46-43c5-9acd-9b855bd591e8",
   "metadata": {},
   "outputs": [
    {
     "data": {
      "text/plain": [
       "11"
      ]
     },
     "execution_count": 2,
     "metadata": {},
     "output_type": "execute_result"
    }
   ],
   "source": [
    "f(2)"
   ]
  },
  {
   "cell_type": "code",
   "execution_count": 4,
   "id": "f4791e75-b619-4733-b192-0746f8cf468d",
   "metadata": {},
   "outputs": [],
   "source": [
    "# fungsi rekursif\n",
    "def factorial(n):\n",
    "    if (n == 0) or (n == 1):\n",
    "        return 1\n",
    "    else:\n",
    "        return n * factorial(n-1)"
   ]
  },
  {
   "cell_type": "code",
   "execution_count": 5,
   "id": "2af8b851-16f8-46fa-8a37-79f3ce5c12fb",
   "metadata": {},
   "outputs": [
    {
     "data": {
      "text/plain": [
       "120"
      ]
     },
     "execution_count": 5,
     "metadata": {},
     "output_type": "execute_result"
    }
   ],
   "source": [
    "factorial(5)"
   ]
  },
  {
   "cell_type": "code",
   "execution_count": 6,
   "id": "b01c6c25-9773-4d7a-9116-12d08e7b3c8c",
   "metadata": {},
   "outputs": [],
   "source": [
    "# lambda\n",
    "p = lambda x,y : x+y"
   ]
  },
  {
   "cell_type": "code",
   "execution_count": 7,
   "id": "366c685f-dba5-4849-8176-7f1ef87848ee",
   "metadata": {},
   "outputs": [
    {
     "data": {
      "text/plain": [
       "3"
      ]
     },
     "execution_count": 7,
     "metadata": {},
     "output_type": "execute_result"
    }
   ],
   "source": [
    "p(1,2)"
   ]
  },
  {
   "cell_type": "code",
   "execution_count": 8,
   "id": "adaf1169-75b8-440f-996d-aba25bd6bc2d",
   "metadata": {},
   "outputs": [],
   "source": [
    "# di dalam fungsi dapat di deklarasikan seperti\n",
    "def info(nama, umur):\n",
    "    print(f\"nama : {nama}\")\n",
    "    print(f\"umur : {umur}\")"
   ]
  },
  {
   "cell_type": "code",
   "execution_count": 10,
   "id": "9f3815f3-846b-4ab6-bcf0-525ada14d871",
   "metadata": {},
   "outputs": [
    {
     "name": "stdout",
     "output_type": "stream",
     "text": [
      "nama : farhan\n",
      "umur : 22\n"
     ]
    }
   ],
   "source": [
    "info(nama = \"farhan\",umur =22) \n",
    "# dengan ini dapat di input dari umur dulu maupun nama"
   ]
  },
  {
   "cell_type": "code",
   "execution_count": 12,
   "id": "4487c36a-f3f5-437d-b52a-9991e2725f5d",
   "metadata": {},
   "outputs": [],
   "source": [
    "# bil 1 adalah variable global\n",
    "bil1 = 4\n",
    "def penjumlahan():\n",
    "    return bil1 + 2\n",
    "    "
   ]
  },
  {
   "cell_type": "code",
   "execution_count": 13,
   "id": "9f13b10e-ac18-4c8e-812d-11fd6bd73ca8",
   "metadata": {},
   "outputs": [
    {
     "data": {
      "text/plain": [
       "6"
      ]
     },
     "execution_count": 13,
     "metadata": {},
     "output_type": "execute_result"
    }
   ],
   "source": [
    "penjumlahan()"
   ]
  },
  {
   "cell_type": "code",
   "execution_count": 15,
   "id": "93c98b21-7443-442f-85a8-701f5a829849",
   "metadata": {},
   "outputs": [],
   "source": [
    "import sys"
   ]
  },
  {
   "cell_type": "code",
   "execution_count": 16,
   "id": "c58b6e75-30b3-430e-a75e-9c6ccb008a2c",
   "metadata": {},
   "outputs": [
    {
     "name": "stdout",
     "output_type": "stream",
     "text": [
      "['C:\\\\Users\\\\hp\\\\Documents\\\\latihan Data Science\\\\Hacktivate', 'C:\\\\Users\\\\hp\\\\anaconda3\\\\python38.zip', 'C:\\\\Users\\\\hp\\\\anaconda3\\\\DLLs', 'C:\\\\Users\\\\hp\\\\anaconda3\\\\lib', 'C:\\\\Users\\\\hp\\\\anaconda3', '', 'C:\\\\Users\\\\hp\\\\AppData\\\\Roaming\\\\Python\\\\Python38\\\\site-packages', 'C:\\\\Users\\\\hp\\\\anaconda3\\\\lib\\\\site-packages', 'C:\\\\Users\\\\hp\\\\anaconda3\\\\lib\\\\site-packages\\\\pyoploverz-0.0.1-py3.8.egg', 'C:\\\\Users\\\\hp\\\\anaconda3\\\\lib\\\\site-packages\\\\locket-0.2.1-py3.8.egg', 'C:\\\\Users\\\\hp\\\\anaconda3\\\\lib\\\\site-packages\\\\win32', 'C:\\\\Users\\\\hp\\\\anaconda3\\\\lib\\\\site-packages\\\\win32\\\\lib', 'C:\\\\Users\\\\hp\\\\anaconda3\\\\lib\\\\site-packages\\\\Pythonwin']\n"
     ]
    }
   ],
   "source": [
    "print(sys.path)"
   ]
  },
  {
   "cell_type": "code",
   "execution_count": 19,
   "id": "f3cb1143-8141-462d-96f4-2cc1724e47c2",
   "metadata": {},
   "outputs": [],
   "source": [
    "# cara menambahkan path folder modul\n",
    "sys.path.append(\"C:\\\\Users\\hp\\Documents\\latihan Data Science\\Hacktivate\\Modul\")"
   ]
  },
  {
   "cell_type": "code",
   "execution_count": 20,
   "id": "d99059b4-e081-4485-8653-fd1d3bf717b3",
   "metadata": {},
   "outputs": [
    {
     "name": "stdout",
     "output_type": "stream",
     "text": [
      "['C:\\\\Users\\\\hp\\\\Documents\\\\latihan Data Science\\\\Hacktivate', 'C:\\\\Users\\\\hp\\\\anaconda3\\\\python38.zip', 'C:\\\\Users\\\\hp\\\\anaconda3\\\\DLLs', 'C:\\\\Users\\\\hp\\\\anaconda3\\\\lib', 'C:\\\\Users\\\\hp\\\\anaconda3', '', 'C:\\\\Users\\\\hp\\\\AppData\\\\Roaming\\\\Python\\\\Python38\\\\site-packages', 'C:\\\\Users\\\\hp\\\\anaconda3\\\\lib\\\\site-packages', 'C:\\\\Users\\\\hp\\\\anaconda3\\\\lib\\\\site-packages\\\\pyoploverz-0.0.1-py3.8.egg', 'C:\\\\Users\\\\hp\\\\anaconda3\\\\lib\\\\site-packages\\\\locket-0.2.1-py3.8.egg', 'C:\\\\Users\\\\hp\\\\anaconda3\\\\lib\\\\site-packages\\\\win32', 'C:\\\\Users\\\\hp\\\\anaconda3\\\\lib\\\\site-packages\\\\win32\\\\lib', 'C:\\\\Users\\\\hp\\\\anaconda3\\\\lib\\\\site-packages\\\\Pythonwin', 'C:\\\\Users\\\\hp\\\\Documents\\\\latihan Data Science\\\\Hacktivate\\\\Modul']\n"
     ]
    }
   ],
   "source": [
    "print(sys.path)"
   ]
  },
  {
   "cell_type": "code",
   "execution_count": 1,
   "id": "09303886-c7b0-4ed2-a6e5-fe4dd864507d",
   "metadata": {},
   "outputs": [],
   "source": [
    "# panggil modul\n",
    "from Modul import modul1 as m"
   ]
  },
  {
   "cell_type": "code",
   "execution_count": 2,
   "id": "fc41f427-159a-4e0c-8b94-ec48c470c702",
   "metadata": {},
   "outputs": [
    {
     "name": "stdout",
     "output_type": "stream",
     "text": [
      "25.0\n"
     ]
    }
   ],
   "source": [
    "# Memanggil Fungsi\n",
    "m.luas_segitiga(5,10)"
   ]
  },
  {
   "cell_type": "code",
   "execution_count": 3,
   "id": "e19a1872-883e-4bb4-9ac0-e4712a50048e",
   "metadata": {},
   "outputs": [
    {
     "data": {
      "text/plain": [
       "3"
      ]
     },
     "execution_count": 3,
     "metadata": {},
     "output_type": "execute_result"
    }
   ],
   "source": [
    "m.tambah(1,2)"
   ]
  },
  {
   "cell_type": "code",
   "execution_count": 4,
   "id": "5c3f5e4a-2835-49ee-ba3d-b93571f361f4",
   "metadata": {},
   "outputs": [
    {
     "data": {
      "text/plain": [
       "'Farhan'"
      ]
     },
     "execution_count": 4,
     "metadata": {},
     "output_type": "execute_result"
    }
   ],
   "source": [
    "# memanggil variabel\n",
    "m.nama"
   ]
  },
  {
   "cell_type": "code",
   "execution_count": null,
   "id": "53ab9983-9932-4ab7-8dd9-a057ce0d3ddf",
   "metadata": {},
   "outputs": [],
   "source": []
  }
 ],
 "metadata": {
  "kernelspec": {
   "display_name": "Python 3 (ipykernel)",
   "language": "python",
   "name": "python3"
  },
  "language_info": {
   "codemirror_mode": {
    "name": "ipython",
    "version": 3
   },
   "file_extension": ".py",
   "mimetype": "text/x-python",
   "name": "python",
   "nbconvert_exporter": "python",
   "pygments_lexer": "ipython3",
   "version": "3.8.8"
  }
 },
 "nbformat": 4,
 "nbformat_minor": 5
}
