{
 "cells": [
  {
   "cell_type": "markdown",
   "id": "919f562b-2f48-4977-99af-cfbcf47951c0",
   "metadata": {},
   "source": [
    "# Tipe Data Dalam Python"
   ]
  },
  {
   "cell_type": "markdown",
   "id": "c612284d-9e1e-42c4-bfc1-52776dc1a84d",
   "metadata": {},
   "source": [
    "## Integer"
   ]
  },
  {
   "cell_type": "code",
   "execution_count": 1,
   "id": "cff2595b-8615-4afb-a72a-3cbef1554485",
   "metadata": {},
   "outputs": [
    {
     "data": {
      "text/plain": [
       "12345"
      ]
     },
     "execution_count": 1,
     "metadata": {},
     "output_type": "execute_result"
    }
   ],
   "source": [
    "12345"
   ]
  },
  {
   "cell_type": "code",
   "execution_count": 10,
   "id": "ba6d6eb4-9259-4655-a955-da24c8fb4ee3",
   "metadata": {},
   "outputs": [
    {
     "data": {
      "text/plain": [
       "-123415"
      ]
     },
     "execution_count": 10,
     "metadata": {},
     "output_type": "execute_result"
    }
   ],
   "source": [
    "-123415"
   ]
  },
  {
   "cell_type": "code",
   "execution_count": 2,
   "id": "ca0c3564-272e-485e-80a3-ce9870d222c5",
   "metadata": {},
   "outputs": [],
   "source": [
    "a = int(123)"
   ]
  },
  {
   "cell_type": "code",
   "execution_count": 5,
   "id": "cb359ce5-522d-4e32-bd7c-9a38026a5db9",
   "metadata": {},
   "outputs": [
    {
     "data": {
      "text/plain": [
       "int"
      ]
     },
     "execution_count": 5,
     "metadata": {},
     "output_type": "execute_result"
    }
   ],
   "source": [
    "type(a)"
   ]
  },
  {
   "cell_type": "markdown",
   "id": "90caea16-af62-434f-9a01-faff40adaed5",
   "metadata": {},
   "source": [
    "## Float"
   ]
  },
  {
   "cell_type": "code",
   "execution_count": 6,
   "id": "90db141f-e2db-444b-8097-18861027d5be",
   "metadata": {},
   "outputs": [
    {
     "data": {
      "text/plain": [
       "2.54"
      ]
     },
     "execution_count": 6,
     "metadata": {},
     "output_type": "execute_result"
    }
   ],
   "source": [
    "2.54"
   ]
  },
  {
   "cell_type": "code",
   "execution_count": 7,
   "id": "186efdc0-1218-4fe6-8ebf-41db4110ee97",
   "metadata": {},
   "outputs": [],
   "source": [
    "f = 34.1"
   ]
  },
  {
   "cell_type": "code",
   "execution_count": 8,
   "id": "62317876-a503-412a-9b3a-7390e551ca7f",
   "metadata": {},
   "outputs": [
    {
     "data": {
      "text/plain": [
       "float"
      ]
     },
     "execution_count": 8,
     "metadata": {},
     "output_type": "execute_result"
    }
   ],
   "source": [
    "type(f)"
   ]
  },
  {
   "cell_type": "code",
   "execution_count": 9,
   "id": "e709a375-46bd-4bfb-9af7-e40f3817516d",
   "metadata": {},
   "outputs": [
    {
     "name": "stdout",
     "output_type": "stream",
     "text": [
      "0.4\n",
      "0.4\n",
      "2300000.0\n",
      "0.0005\n"
     ]
    }
   ],
   "source": [
    "print(0.4)\n",
    "print(.4)\n",
    "print(2.3e6)\n",
    "print(5e-4)"
   ]
  },
  {
   "cell_type": "markdown",
   "id": "c01115cb-5e32-4839-b76b-af01fb118a3a",
   "metadata": {},
   "source": [
    "## String"
   ]
  },
  {
   "cell_type": "code",
   "execution_count": 11,
   "id": "c36024f3-89b0-498f-8cd0-f8917a67daa0",
   "metadata": {},
   "outputs": [
    {
     "name": "stdout",
     "output_type": "stream",
     "text": [
      "Hello World!\n",
      "1234\n",
      "Hacktiv8\n",
      "This string contains a quote (\")\n",
      "This string contains a single quote (')\n"
     ]
    }
   ],
   "source": [
    "print(\"Hello World!\")\n",
    "print(\"1234\")\n",
    "print('Hacktiv8')\n",
    "print('This string contains a quote (\")')\n",
    "print(\"This string contains a single quote (')\")"
   ]
  },
  {
   "cell_type": "code",
   "execution_count": 12,
   "id": "14225ea2-d079-4ab7-a783-ceb8fc52fb6e",
   "metadata": {},
   "outputs": [],
   "source": [
    "s = \"Hello World\""
   ]
  },
  {
   "cell_type": "code",
   "execution_count": 13,
   "id": "5f87781e-d595-4f29-b4f1-b8abc79dc1b2",
   "metadata": {},
   "outputs": [
    {
     "data": {
      "text/plain": [
       "str"
      ]
     },
     "execution_count": 13,
     "metadata": {},
     "output_type": "execute_result"
    }
   ],
   "source": [
    "type(s)"
   ]
  },
  {
   "cell_type": "markdown",
   "id": "d70524a3-cd52-4bcb-82c1-bca53e2ff774",
   "metadata": {},
   "source": [
    "## Boolean"
   ]
  },
  {
   "cell_type": "code",
   "execution_count": 14,
   "id": "cdff4605-b70f-42a2-b454-8ff825ac3288",
   "metadata": {},
   "outputs": [
    {
     "name": "stdout",
     "output_type": "stream",
     "text": [
      "True\n",
      "False\n"
     ]
    }
   ],
   "source": [
    "print(True)\n",
    "print(False)"
   ]
  },
  {
   "cell_type": "code",
   "execution_count": 15,
   "id": "4b805dd9-0661-48fc-82f1-37d8cd7942e5",
   "metadata": {},
   "outputs": [
    {
     "name": "stdout",
     "output_type": "stream",
     "text": [
      "<class 'bool'>\n"
     ]
    }
   ],
   "source": [
    "print(type(True))"
   ]
  },
  {
   "cell_type": "code",
   "execution_count": 16,
   "id": "d9b71965-39bb-442c-a9aa-ab54d1e76f24",
   "metadata": {},
   "outputs": [],
   "source": [
    "a = b = c = 500"
   ]
  },
  {
   "cell_type": "code",
   "execution_count": 17,
   "id": "4ffb18c0-fa61-4f06-9a3f-22de5ed07d93",
   "metadata": {},
   "outputs": [
    {
     "name": "stdout",
     "output_type": "stream",
     "text": [
      "500\n",
      "500\n",
      "500\n"
     ]
    }
   ],
   "source": [
    "print(a)\n",
    "print(b)\n",
    "print(c)"
   ]
  },
  {
   "cell_type": "code",
   "execution_count": 18,
   "id": "5bf61f8f-72cd-4a9d-a18c-cbcd7b746065",
   "metadata": {},
   "outputs": [],
   "source": [
    "a = 23.4\n",
    "b = True\n",
    "c = \"ABCDEFG\"\n",
    "d = 5"
   ]
  },
  {
   "cell_type": "code",
   "execution_count": 19,
   "id": "76415278-a1e6-42ab-9775-b412d7a16550",
   "metadata": {},
   "outputs": [
    {
     "name": "stdout",
     "output_type": "stream",
     "text": [
      "<class 'float'>\n",
      "<class 'bool'>\n",
      "<class 'str'>\n",
      "<class 'int'>\n"
     ]
    }
   ],
   "source": [
    "print(type(a))\n",
    "print(type(b))\n",
    "print(type(c))\n",
    "print(type(d))"
   ]
  },
  {
   "cell_type": "code",
   "execution_count": 20,
   "id": "ff020cc7-1267-48df-a29e-87ae1ff5be0a",
   "metadata": {},
   "outputs": [
    {
     "name": "stdout",
     "output_type": "stream",
     "text": [
      "STRING1\n",
      "<class 'str'>\n"
     ]
    }
   ],
   "source": [
    "a = \"STRING1\"\n",
    "print(a)\n",
    "print(type(a))"
   ]
  },
  {
   "cell_type": "code",
   "execution_count": 21,
   "id": "b7f8edc9-b61e-457f-9657-fb169063466a",
   "metadata": {},
   "outputs": [],
   "source": [
    "umur = 43\n",
    "nama_depan = \"yohan\"\n",
    "has_laptops = True\n",
    "\n",
    "namaDepan = 'yoohan'\n",
    "hasLaptops = False"
   ]
  },
  {
   "cell_type": "code",
   "execution_count": 22,
   "id": "382a53e2-1c86-4013-92a2-fec082f155e5",
   "metadata": {},
   "outputs": [],
   "source": [
    "naga10 = 123"
   ]
  },
  {
   "cell_type": "code",
   "execution_count": 23,
   "id": "4ae535cf-c844-4f04-bc95-ee9e96440cdd",
   "metadata": {},
   "outputs": [
    {
     "data": {
      "text/plain": [
       "123"
      ]
     },
     "execution_count": 23,
     "metadata": {},
     "output_type": "execute_result"
    }
   ],
   "source": [
    "naga10"
   ]
  },
  {
   "cell_type": "markdown",
   "id": "818fe776-e4d3-484c-88ff-891e96db65b9",
   "metadata": {},
   "source": [
    "## Operator"
   ]
  },
  {
   "cell_type": "markdown",
   "id": "4e93840d-abdc-482c-b091-8ba864a26aab",
   "metadata": {},
   "source": [
    "## Pertambahan"
   ]
  },
  {
   "cell_type": "markdown",
   "id": "703ee962-2567-4c00-824d-84d3651730e4",
   "metadata": {},
   "source": [
    "$$ 5 + 6 $$"
   ]
  },
  {
   "cell_type": "code",
   "execution_count": 24,
   "id": "84c4b864-4687-4adc-afda-102436376c58",
   "metadata": {},
   "outputs": [
    {
     "data": {
      "text/plain": [
       "11"
      ]
     },
     "execution_count": 24,
     "metadata": {},
     "output_type": "execute_result"
    }
   ],
   "source": [
    "5 + 6"
   ]
  },
  {
   "cell_type": "markdown",
   "id": "93a9d4a5-e41e-4a59-b9e0-6ea7570bed17",
   "metadata": {},
   "source": [
    "$$ 4 - 7 $$"
   ]
  },
  {
   "cell_type": "code",
   "execution_count": 25,
   "id": "a62a0c2d-76dc-40a7-9240-d214e1ede0dc",
   "metadata": {},
   "outputs": [
    {
     "data": {
      "text/plain": [
       "-3"
      ]
     },
     "execution_count": 25,
     "metadata": {},
     "output_type": "execute_result"
    }
   ],
   "source": [
    "4 - 7"
   ]
  },
  {
   "cell_type": "markdown",
   "id": "c1677db1-1304-43f6-a0f3-02c4f4e15bd9",
   "metadata": {},
   "source": [
    "$$ 3 * 5 $$"
   ]
  },
  {
   "cell_type": "code",
   "execution_count": 26,
   "id": "9171cec0-aaff-413d-ad19-a0e88ab87aee",
   "metadata": {},
   "outputs": [
    {
     "data": {
      "text/plain": [
       "15"
      ]
     },
     "execution_count": 26,
     "metadata": {},
     "output_type": "execute_result"
    }
   ],
   "source": [
    "3 * 5"
   ]
  },
  {
   "cell_type": "markdown",
   "id": "31f07fa8-b5e3-41e2-8b1b-737de21d3d6a",
   "metadata": {},
   "source": [
    "$$ 7/10 $$"
   ]
  },
  {
   "cell_type": "code",
   "execution_count": 27,
   "id": "9fea906c-d1fa-45c6-b2c1-6c722b531790",
   "metadata": {},
   "outputs": [
    {
     "data": {
      "text/plain": [
       "0.7"
      ]
     },
     "execution_count": 27,
     "metadata": {},
     "output_type": "execute_result"
    }
   ],
   "source": [
    "7/10"
   ]
  },
  {
   "cell_type": "markdown",
   "id": "814382d7-0b5c-4910-bdcb-2615494e3d69",
   "metadata": {},
   "source": [
    "$$ 2^5 $$"
   ]
  },
  {
   "cell_type": "code",
   "execution_count": 28,
   "id": "ccd89886-9918-400f-9c36-493a2a69bca5",
   "metadata": {},
   "outputs": [
    {
     "data": {
      "text/plain": [
       "32"
      ]
     },
     "execution_count": 28,
     "metadata": {},
     "output_type": "execute_result"
    }
   ],
   "source": [
    "2**5"
   ]
  },
  {
   "cell_type": "markdown",
   "id": "31848b30-bf3b-4399-b91d-5585f3b4dd59",
   "metadata": {},
   "source": []
  },
  {
   "cell_type": "code",
   "execution_count": 31,
   "id": "91e8550e-4bf8-475c-b4c4-810998914ae6",
   "metadata": {},
   "outputs": [
    {
     "data": {
      "text/plain": [
       "1"
      ]
     },
     "execution_count": 31,
     "metadata": {},
     "output_type": "execute_result"
    }
   ],
   "source": [
    "15 % 7"
   ]
  },
  {
   "cell_type": "code",
   "execution_count": 32,
   "id": "4beab52a-5b4f-4358-8c00-ca9c4f4d7da3",
   "metadata": {},
   "outputs": [
    {
     "name": "stdout",
     "output_type": "stream",
     "text": [
      "7\n",
      "30\n",
      "0.8333333333333334\n"
     ]
    }
   ],
   "source": [
    "a = 5\n",
    "b = 6\n",
    "print(a+b-4)\n",
    "print(a*b)\n",
    "print(a/b)"
   ]
  },
  {
   "cell_type": "markdown",
   "id": "5be108a9-b342-47e3-9ce7-b91d4d513ce1",
   "metadata": {},
   "source": [
    "## Comparison"
   ]
  },
  {
   "cell_type": "code",
   "execution_count": 33,
   "id": "1f2ff538-0ac3-4cd3-979b-bd19f81f1205",
   "metadata": {},
   "outputs": [
    {
     "name": "stdout",
     "output_type": "stream",
     "text": [
      "False\n",
      "True\n",
      "True\n",
      "False\n",
      "False\n",
      "True\n"
     ]
    }
   ],
   "source": [
    "a = 10\n",
    "b = 20\n",
    "\n",
    "print(a == b)\n",
    "print(a != b)\n",
    "print(a <= b)\n",
    "print(a >= b)\n",
    "print(a > b)\n",
    "print(a < b)"
   ]
  },
  {
   "cell_type": "markdown",
   "id": "881f4a2f-bb45-4e58-9124-ef39cb68a9be",
   "metadata": {},
   "source": [
    "## String Manipulation"
   ]
  },
  {
   "cell_type": "code",
   "execution_count": 34,
   "id": "97edfc3d-b1b6-4e1e-b603-6551a80e4a7a",
   "metadata": {},
   "outputs": [],
   "source": [
    "a = 'abc'\n",
    "b = 'def'\n",
    "c = 'hij'"
   ]
  },
  {
   "cell_type": "code",
   "execution_count": 35,
   "id": "e8e1bf75-723a-42a0-9618-aa2fa98c1b0e",
   "metadata": {},
   "outputs": [
    {
     "name": "stdout",
     "output_type": "stream",
     "text": [
      "abcdef\n",
      "abc def\n"
     ]
    }
   ],
   "source": [
    "print(a + b)\n",
    "print(a + \" \" + b)"
   ]
  },
  {
   "cell_type": "code",
   "execution_count": 37,
   "id": "424fc1ea-344d-46bf-b9fd-b7ff0e009f8d",
   "metadata": {},
   "outputs": [
    {
     "data": {
      "text/plain": [
       "'abc abc abc abc '"
      ]
     },
     "execution_count": 37,
     "metadata": {},
     "output_type": "execute_result"
    }
   ],
   "source": [
    "x = 'abc '\n",
    "\n",
    "x * 4"
   ]
  },
  {
   "cell_type": "code",
   "execution_count": 38,
   "id": "748831c8-34bb-4ea9-bc7b-61070e7d4451",
   "metadata": {},
   "outputs": [
    {
     "data": {
      "text/plain": [
       "False"
      ]
     },
     "execution_count": 38,
     "metadata": {},
     "output_type": "execute_result"
    }
   ],
   "source": [
    "s  = 'foo'\n",
    "\n",
    "s in \"That is good for us\""
   ]
  },
  {
   "cell_type": "code",
   "execution_count": 39,
   "id": "28262ff2-bdbe-4f71-bfcf-6896b04a7d37",
   "metadata": {},
   "outputs": [
    {
     "data": {
      "text/plain": [
       "True"
      ]
     },
     "execution_count": 39,
     "metadata": {},
     "output_type": "execute_result"
    }
   ],
   "source": [
    "s in \"That is food for us\""
   ]
  },
  {
   "cell_type": "code",
   "execution_count": 40,
   "id": "8a7dccb4-acb7-48f0-8866-e4daa1ea0ee3",
   "metadata": {},
   "outputs": [
    {
     "data": {
      "text/plain": [
       "False"
      ]
     },
     "execution_count": 40,
     "metadata": {},
     "output_type": "execute_result"
    }
   ],
   "source": [
    "\"one\" > \"two\""
   ]
  },
  {
   "cell_type": "code",
   "execution_count": 41,
   "id": "32aa93b2-9bec-40ff-9964-d7682566ca0b",
   "metadata": {},
   "outputs": [
    {
     "data": {
      "text/plain": [
       "False"
      ]
     },
     "execution_count": 41,
     "metadata": {},
     "output_type": "execute_result"
    }
   ],
   "source": [
    "\"aaaaa\" < \"aaaa\""
   ]
  },
  {
   "cell_type": "code",
   "execution_count": 42,
   "id": "b3a8e02b-bacb-475d-9139-34f1775f4bb8",
   "metadata": {},
   "outputs": [
    {
     "data": {
      "text/plain": [
       "False"
      ]
     },
     "execution_count": 42,
     "metadata": {},
     "output_type": "execute_result"
    }
   ],
   "source": [
    "'foo' == \"That is food for us\""
   ]
  },
  {
   "cell_type": "code",
   "execution_count": 43,
   "id": "cb4ccbfa-23ba-4b0a-96dd-baed6d5da952",
   "metadata": {},
   "outputs": [
    {
     "data": {
      "text/plain": [
       "True"
      ]
     },
     "execution_count": 43,
     "metadata": {},
     "output_type": "execute_result"
    }
   ],
   "source": [
    "'foo' in \"That is food for us\""
   ]
  },
  {
   "cell_type": "code",
   "execution_count": 44,
   "id": "1463d83e-ba4f-41a3-b085-d991b21f0cda",
   "metadata": {},
   "outputs": [
    {
     "name": "stdout",
     "output_type": "stream",
     "text": [
      "Hacktiv8 abds\n",
      "hacktiv8 abds\n",
      "HACKtiv8 ABDS\n",
      "Hacktiv8 Abds\n",
      "HACKTIV8 ABDS\n"
     ]
    }
   ],
   "source": [
    "s = 'hackTIV8 abds'\n",
    "\n",
    "print(s.capitalize())\n",
    "print(s.lower())\n",
    "print(s.swapcase())\n",
    "print(s.title())\n",
    "print(s.upper())"
   ]
  },
  {
   "cell_type": "markdown",
   "id": "7bcfd545-0ea4-4075-99ab-8e636396cb1c",
   "metadata": {},
   "source": [
    "## List"
   ]
  },
  {
   "cell_type": "code",
   "execution_count": 46,
   "id": "5d22954d-9126-481f-8123-de0587b57ae8",
   "metadata": {},
   "outputs": [
    {
     "name": "stdout",
     "output_type": "stream",
     "text": [
      "[1, 2, 3, 4, 5]\n",
      "['abc', 'def', 'hij']\n",
      "['abc', 3.4, 1, True]\n"
     ]
    }
   ],
   "source": [
    "list1 = [1,2,3,4,5]\n",
    "list2 = [\"abc\", \"def\", \"hij\"]\n",
    "list3 = [\"abc\", 3.4, 1, True]\n",
    "print(list1)\n",
    "print(list2)\n",
    "print(list3)"
   ]
  },
  {
   "cell_type": "code",
   "execution_count": 47,
   "id": "5d463444-1ec2-4a76-a002-141cdd590059",
   "metadata": {},
   "outputs": [
    {
     "data": {
      "text/plain": [
       "True"
      ]
     },
     "execution_count": 47,
     "metadata": {},
     "output_type": "execute_result"
    }
   ],
   "source": [
    "list2[-1] == list2[2]"
   ]
  },
  {
   "cell_type": "code",
   "execution_count": 48,
   "id": "3ad6ad56-fd47-49c6-872d-b54ab7fb8f5b",
   "metadata": {},
   "outputs": [
    {
     "data": {
      "text/plain": [
       "'abc'"
      ]
     },
     "execution_count": 48,
     "metadata": {},
     "output_type": "execute_result"
    }
   ],
   "source": [
    "list2[-3]"
   ]
  },
  {
   "cell_type": "code",
   "execution_count": 49,
   "id": "b14a8f5a-5920-49ed-a243-d6618476a74b",
   "metadata": {},
   "outputs": [],
   "source": [
    "s = s.title()"
   ]
  },
  {
   "cell_type": "code",
   "execution_count": 50,
   "id": "7f98dbaf-09f5-4955-adbe-14795bf54ba1",
   "metadata": {},
   "outputs": [
    {
     "data": {
      "text/plain": [
       "'Hacktiv8 Abds'"
      ]
     },
     "execution_count": 50,
     "metadata": {},
     "output_type": "execute_result"
    }
   ],
   "source": [
    "s"
   ]
  },
  {
   "cell_type": "code",
   "execution_count": 51,
   "id": "8522b295-8535-474a-b4d4-194f49952ac4",
   "metadata": {},
   "outputs": [
    {
     "data": {
      "text/plain": [
       "'H'"
      ]
     },
     "execution_count": 51,
     "metadata": {},
     "output_type": "execute_result"
    }
   ],
   "source": [
    "s[0]"
   ]
  },
  {
   "cell_type": "code",
   "execution_count": 52,
   "id": "6d68f29d-e073-4be0-9313-1a808b60755a",
   "metadata": {},
   "outputs": [
    {
     "data": {
      "text/plain": [
       "[4, 3, 4, 3, 4, 3]"
      ]
     },
     "execution_count": 52,
     "metadata": {},
     "output_type": "execute_result"
    }
   ],
   "source": [
    "[4,3] * 3"
   ]
  },
  {
   "cell_type": "code",
   "execution_count": 53,
   "id": "d0cd4794-df81-4a35-913e-03aeb7f3b14b",
   "metadata": {},
   "outputs": [],
   "source": [
    "list2 = [\"abc\", \"def\", \"hij\", \"klm\", \"nop\"]"
   ]
  },
  {
   "cell_type": "code",
   "execution_count": 54,
   "id": "8e2ddf57-bc9b-4c54-936e-13fcbe06f845",
   "metadata": {},
   "outputs": [
    {
     "data": {
      "text/plain": [
       "['def', 'hij', 'klm']"
      ]
     },
     "execution_count": 54,
     "metadata": {},
     "output_type": "execute_result"
    }
   ],
   "source": [
    "list2[1:4]"
   ]
  },
  {
   "cell_type": "code",
   "execution_count": 55,
   "id": "de2c1070-f3af-4ce6-9d25-59c03701b848",
   "metadata": {},
   "outputs": [
    {
     "data": {
      "text/plain": [
       "'acktiv'"
      ]
     },
     "execution_count": 55,
     "metadata": {},
     "output_type": "execute_result"
    }
   ],
   "source": [
    "s[1:7]"
   ]
  },
  {
   "cell_type": "code",
   "execution_count": 56,
   "id": "d9f62156-eb89-4588-adca-d6968470f49d",
   "metadata": {},
   "outputs": [],
   "source": [
    "list1 = [1,2,3,4,100]\n",
    "list2 = [\"abc\", \"zef\", \"hij\"]\n",
    "list3 = [\"abc\", 3.4, 1, True]"
   ]
  },
  {
   "cell_type": "code",
   "execution_count": 57,
   "id": "14287966-b4ec-4f0d-a253-c19772c61566",
   "metadata": {},
   "outputs": [
    {
     "data": {
      "text/plain": [
       "[1, 2, 3, 4, 100, 'abc', 'zef', 'hij']"
      ]
     },
     "execution_count": 57,
     "metadata": {},
     "output_type": "execute_result"
    }
   ],
   "source": [
    "list1 + list2"
   ]
  },
  {
   "cell_type": "code",
   "execution_count": 58,
   "id": "fa602e76-ede0-49b0-af48-a3c6f279bba0",
   "metadata": {},
   "outputs": [
    {
     "name": "stdout",
     "output_type": "stream",
     "text": [
      "5\n",
      "3\n"
     ]
    }
   ],
   "source": [
    "print(len(list1))\n",
    "print(len(list2))"
   ]
  },
  {
   "cell_type": "code",
   "execution_count": 59,
   "id": "318c05d7-b782-4bed-9275-65b448d28662",
   "metadata": {},
   "outputs": [
    {
     "name": "stdout",
     "output_type": "stream",
     "text": [
      "100\n",
      "zef\n"
     ]
    }
   ],
   "source": [
    "print(max(list1))\n",
    "print(max(list2))"
   ]
  },
  {
   "cell_type": "code",
   "execution_count": 60,
   "id": "6cd24fb5-f8af-46c3-a66a-0e517d66f741",
   "metadata": {},
   "outputs": [
    {
     "name": "stdout",
     "output_type": "stream",
     "text": [
      "1\n",
      "abc\n"
     ]
    }
   ],
   "source": [
    "print(min(list1))\n",
    "print(min(list2))"
   ]
  },
  {
   "cell_type": "code",
   "execution_count": 61,
   "id": "2609c535-4b75-4baa-83e8-039df52695d7",
   "metadata": {},
   "outputs": [],
   "source": [
    "list1[2] = 45"
   ]
  },
  {
   "cell_type": "code",
   "execution_count": 62,
   "id": "888abbd1-1f6e-43a8-a0b8-40d23fe8210c",
   "metadata": {},
   "outputs": [],
   "source": [
    "list1[-2] = 123"
   ]
  },
  {
   "cell_type": "code",
   "execution_count": 63,
   "id": "dbdaf570-c03c-4896-9a11-51a51b89aebd",
   "metadata": {},
   "outputs": [
    {
     "data": {
      "text/plain": [
       "[1, 2, 45, 123, 100]"
      ]
     },
     "execution_count": 63,
     "metadata": {},
     "output_type": "execute_result"
    }
   ],
   "source": [
    "list1"
   ]
  },
  {
   "cell_type": "code",
   "execution_count": 64,
   "id": "a659c97c-7a96-4ab0-9828-46a00beb47ee",
   "metadata": {},
   "outputs": [],
   "source": [
    "del list1[3]"
   ]
  },
  {
   "cell_type": "code",
   "execution_count": 65,
   "id": "3e65b7ad-3676-432d-9ea1-c4145fd2d6d2",
   "metadata": {},
   "outputs": [
    {
     "data": {
      "text/plain": [
       "[1, 2, 45, 100]"
      ]
     },
     "execution_count": 65,
     "metadata": {},
     "output_type": "execute_result"
    }
   ],
   "source": [
    "list1"
   ]
  },
  {
   "cell_type": "code",
   "execution_count": 66,
   "id": "d32db84d-659b-4409-a93a-fdf28467d4a2",
   "metadata": {},
   "outputs": [
    {
     "data": {
      "text/plain": [
       "100"
      ]
     },
     "execution_count": 66,
     "metadata": {},
     "output_type": "execute_result"
    }
   ],
   "source": [
    "list1[3]"
   ]
  },
  {
   "cell_type": "code",
   "execution_count": 67,
   "id": "8c10b68a-72c5-465c-bcd6-19d19d570bca",
   "metadata": {},
   "outputs": [],
   "source": [
    "list2 = [\"abc\", \"def\", \"hij\", \"klm\", \"nop\"]\n",
    "list2[1:4] = ['a', 'b', 'c']"
   ]
  },
  {
   "cell_type": "code",
   "execution_count": 68,
   "id": "bb092721-e04a-4e60-ad0f-c802c7490a5d",
   "metadata": {},
   "outputs": [
    {
     "data": {
      "text/plain": [
       "['abc', 'a', 'b', 'c', 'nop']"
      ]
     },
     "execution_count": 68,
     "metadata": {},
     "output_type": "execute_result"
    }
   ],
   "source": [
    "list2"
   ]
  },
  {
   "cell_type": "code",
   "execution_count": 69,
   "id": "0c8f62e4-d4bc-4d27-b85a-e24452bb7ad0",
   "metadata": {},
   "outputs": [
    {
     "data": {
      "text/plain": [
       "['abc', 'a', 'b', 'nop']"
      ]
     },
     "execution_count": 69,
     "metadata": {},
     "output_type": "execute_result"
    }
   ],
   "source": [
    "list2[1:4] = ['a', 'b']\n",
    "list2"
   ]
  },
  {
   "cell_type": "markdown",
   "id": "5f345a5d-7214-45f5-8a42-112670079bce",
   "metadata": {},
   "source": [
    "## Tuples"
   ]
  },
  {
   "cell_type": "code",
   "execution_count": 70,
   "id": "53ffd35a-0919-4ff0-9003-f9631f8d9ae9",
   "metadata": {},
   "outputs": [
    {
     "data": {
      "text/plain": [
       "100"
      ]
     },
     "execution_count": 70,
     "metadata": {},
     "output_type": "execute_result"
    }
   ],
   "source": [
    "tuple1 = (1,2,3,4,100)\n",
    "tuple2 = (\"abc\", \"def\", \"hij\", \"klm\", \"nop\")\n",
    "tuple1[-1]"
   ]
  },
  {
   "cell_type": "code",
   "execution_count": 71,
   "id": "3ef07fdf-d750-4ed9-a5be-4374d8b23158",
   "metadata": {},
   "outputs": [],
   "source": [
    "(a,b,c,d,e) = tuple1"
   ]
  },
  {
   "cell_type": "code",
   "execution_count": 72,
   "id": "da48a4f3-72d9-41bb-9633-487df2d2acbc",
   "metadata": {},
   "outputs": [
    {
     "name": "stdout",
     "output_type": "stream",
     "text": [
      "1\n",
      "2\n",
      "3\n",
      "4\n",
      "100\n"
     ]
    }
   ],
   "source": [
    "print(a)\n",
    "print(b)\n",
    "print(c)\n",
    "print(d)\n",
    "print(e)"
   ]
  },
  {
   "cell_type": "code",
   "execution_count": 80,
   "id": "6ca1e673-ad5e-4670-84b4-4e541497ca0d",
   "metadata": {},
   "outputs": [],
   "source": [
    "titik1 = (3,4)"
   ]
  },
  {
   "cell_type": "code",
   "execution_count": 81,
   "id": "2fb3dd3d-d1cb-4e4f-a5e4-3d975e6734cf",
   "metadata": {},
   "outputs": [
    {
     "data": {
      "text/plain": [
       "(3, 4)"
      ]
     },
     "execution_count": 81,
     "metadata": {},
     "output_type": "execute_result"
    }
   ],
   "source": [
    "titik1"
   ]
  },
  {
   "cell_type": "markdown",
   "id": "fb4c3b00-7c06-4240-88aa-011a1dede8af",
   "metadata": {},
   "source": [
    "## Dictionary"
   ]
  },
  {
   "cell_type": "code",
   "execution_count": 82,
   "id": "ef32a358-f2f7-4dc0-94bc-2428aaa5d9c0",
   "metadata": {},
   "outputs": [
    {
     "data": {
      "text/plain": [
       "3"
      ]
     },
     "execution_count": 82,
     "metadata": {},
     "output_type": "execute_result"
    }
   ],
   "source": [
    "list1 = [1,2,3,4,100]\n",
    "list2 = [\"abc\", \"def\", \"hij\", \"klm\", \"nop\"]\n",
    "list1[2]"
   ]
  },
  {
   "cell_type": "code",
   "execution_count": 83,
   "id": "112238a4-8148-4252-8a24-ea919d297cbd",
   "metadata": {},
   "outputs": [
    {
     "data": {
      "text/plain": [
       "3"
      ]
     },
     "execution_count": 83,
     "metadata": {},
     "output_type": "execute_result"
    }
   ],
   "source": [
    "dictionary1 = {\n",
    "    'pertama': 1,\n",
    "    'kedua': 2,\n",
    "    'ketiga': 3,\n",
    "    'keempat': 4\n",
    "}\n",
    "dictionary1['ketiga']"
   ]
  },
  {
   "cell_type": "code",
   "execution_count": 84,
   "id": "13f1eea3-8db9-47fd-837e-e819a2ea3cbe",
   "metadata": {},
   "outputs": [],
   "source": [
    "dictionary2 = {\n",
    "    'London': 'Arsenal FC',\n",
    "    'Liverpool': 'Liverpool FC',\n",
    "    'Manchaster': 'Manchaster City'\n",
    "}\n",
    "dictionary2['London'] = 'Spurs'"
   ]
  },
  {
   "cell_type": "code",
   "execution_count": 85,
   "id": "5c73b18a-b6df-4a3d-bf25-7bf467da70e3",
   "metadata": {},
   "outputs": [],
   "source": [
    "del dictionary2['London']"
   ]
  },
  {
   "cell_type": "code",
   "execution_count": 88,
   "id": "74015434-c3f2-413c-aebb-69ae9057b129",
   "metadata": {},
   "outputs": [],
   "source": [
    "dictionary2['London'] = 'Arsenal FC'"
   ]
  },
  {
   "cell_type": "code",
   "execution_count": 90,
   "id": "ef988d2f-505d-45a3-949c-bb66da12e071",
   "metadata": {},
   "outputs": [
    {
     "data": {
      "text/plain": [
       "{'Liverpool': 'Liverpool FC',\n",
       " 'Manchaster': 'Manchaster City',\n",
       " 'London': 'Arsenal FC'}"
      ]
     },
     "execution_count": 90,
     "metadata": {},
     "output_type": "execute_result"
    }
   ],
   "source": [
    "dictionary2"
   ]
  },
  {
   "cell_type": "code",
   "execution_count": 91,
   "id": "64fdd2bf-f77b-417f-b9e6-4830f16e5a72",
   "metadata": {},
   "outputs": [
    {
     "name": "stdout",
     "output_type": "stream",
     "text": [
      "{}\n",
      "<class 'dict'>\n"
     ]
    }
   ],
   "source": [
    "data_diri = {}\n",
    "print(data_diri)\n",
    "print(type(data_diri))"
   ]
  },
  {
   "cell_type": "code",
   "execution_count": 92,
   "id": "314aa72c-aaff-46e8-a1fb-743447f94e85",
   "metadata": {},
   "outputs": [
    {
     "name": "stdout",
     "output_type": "stream",
     "text": [
      "{'nama_depan': 'Agus', 'nama_belakang': 'Gunawan', 'umur': 25, 'nama_anak': ['a', 'b', 'c']}\n"
     ]
    }
   ],
   "source": [
    "data_diri['nama_depan'] = \"Agus\"\n",
    "data_diri['nama_belakang'] = \"Gunawan\"\n",
    "data_diri['umur'] = 25\n",
    "data_diri['nama_anak'] = ['a','b','c']\n",
    "print(data_diri)"
   ]
  },
  {
   "cell_type": "code",
   "execution_count": 93,
   "id": "0a4dc3b0-8888-49fd-a1a8-b6dab5aaae04",
   "metadata": {},
   "outputs": [
    {
     "data": {
      "text/plain": [
       "'bruno'"
      ]
     },
     "execution_count": 93,
     "metadata": {},
     "output_type": "execute_result"
    }
   ],
   "source": [
    "data_diri['peliharaan'] = {'anjing':'bruno', 'kucing':'meong'}\n",
    "data_diri['peliharaan']['anjing']"
   ]
  },
  {
   "cell_type": "code",
   "execution_count": 94,
   "id": "4be109b5-42b4-41ef-a0b9-dc1aef8038d5",
   "metadata": {},
   "outputs": [
    {
     "data": {
      "text/plain": [
       "{'pertama': 1, 'kedua': 2, 'ketiga': 3, 'keempat': 4}"
      ]
     },
     "execution_count": 94,
     "metadata": {},
     "output_type": "execute_result"
    }
   ],
   "source": [
    "dictionary1"
   ]
  },
  {
   "cell_type": "code",
   "execution_count": 95,
   "id": "c2c5ce8c-2d80-4241-962c-fd5cc8f6a648",
   "metadata": {},
   "outputs": [
    {
     "data": {
      "text/plain": [
       "dict_items([('pertama', 1), ('kedua', 2), ('ketiga', 3), ('keempat', 4)])"
      ]
     },
     "execution_count": 95,
     "metadata": {},
     "output_type": "execute_result"
    }
   ],
   "source": [
    "dictionary1.items()"
   ]
  },
  {
   "cell_type": "code",
   "execution_count": 96,
   "id": "bd2f1de8-24b1-4f8b-8f4f-28c00f3c2ce1",
   "metadata": {},
   "outputs": [
    {
     "data": {
      "text/plain": [
       "dict_keys(['pertama', 'kedua', 'ketiga', 'keempat'])"
      ]
     },
     "execution_count": 96,
     "metadata": {},
     "output_type": "execute_result"
    }
   ],
   "source": [
    "dictionary1.keys()"
   ]
  },
  {
   "cell_type": "code",
   "execution_count": 97,
   "id": "a10bac19-8b12-4975-8316-feb58978293c",
   "metadata": {},
   "outputs": [
    {
     "data": {
      "text/plain": [
       "dict_values([1, 2, 3, 4])"
      ]
     },
     "execution_count": 97,
     "metadata": {},
     "output_type": "execute_result"
    }
   ],
   "source": [
    "dictionary1.values()"
   ]
  },
  {
   "cell_type": "code",
   "execution_count": 98,
   "id": "5488712f-795a-40ab-a650-b422f00978c1",
   "metadata": {},
   "outputs": [
    {
     "data": {
      "text/plain": [
       "True"
      ]
     },
     "execution_count": 98,
     "metadata": {},
     "output_type": "execute_result"
    }
   ],
   "source": [
    "person1_age = 42\n",
    "person2_age = 16\n",
    "person3_age = 71\n",
    "\n",
    "(person1_age >= 18 and person1_age <= 65) or \\\n",
    "    (person2_age >=18 and person2_age <=65)"
   ]
  },
  {
   "cell_type": "code",
   "execution_count": 99,
   "id": "031c91dd-1f1d-47c5-a50c-d57035ad44ba",
   "metadata": {},
   "outputs": [
    {
     "data": {
      "text/plain": [
       "True"
      ]
     },
     "execution_count": 99,
     "metadata": {},
     "output_type": "execute_result"
    }
   ],
   "source": [
    "(\n",
    "    (person1_age >= 18 and person1_age <= 65) or \n",
    "    (person2_age >=18 and person2_age <=65)\n",
    ")"
   ]
  },
  {
   "cell_type": "code",
   "execution_count": null,
   "id": "b601279e-5036-4292-93bd-d9ebda2db448",
   "metadata": {},
   "outputs": [],
   "source": []
  }
 ],
 "metadata": {
  "kernelspec": {
   "display_name": "Python 3 (ipykernel)",
   "language": "python",
   "name": "python3"
  },
  "language_info": {
   "codemirror_mode": {
    "name": "ipython",
    "version": 3
   },
   "file_extension": ".py",
   "mimetype": "text/x-python",
   "name": "python",
   "nbconvert_exporter": "python",
   "pygments_lexer": "ipython3",
   "version": "3.8.8"
  }
 },
 "nbformat": 4,
 "nbformat_minor": 5
}
